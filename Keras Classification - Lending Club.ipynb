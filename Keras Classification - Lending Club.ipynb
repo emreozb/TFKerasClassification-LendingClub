{
 "cells": [
  {
   "cell_type": "markdown",
   "metadata": {},
   "source": [
    "## The Data\n",
    "\n",
    "LendingClub is a US peer-to-peer lending company, headquartered in San Francisco, California. It was the first peer-to-peer lender to register its offerings as securities with the Securities and Exchange Commission (SEC), and to offer loan trading on a secondary market. LendingClub is the world's largest peer-to-peer lending platform.\n",
    "\n",
    "### Our Goal\n",
    "\n",
    "I have historical data on loans given out with information on whether or not the borrower defaulted (charge off). I'll build a model that can predict whether or not a borrower will pay back their loan. This way in the future when I get a new potential customer I can assess whether or not they are likely to pay back the loan.\n",
    "\n",
    "The \"loan_status\" column contains our label.\n",
    "\n",
    "### Data Overview"
   ]
  },
  {
   "cell_type": "markdown",
   "metadata": {},
   "source": [
    "----\n",
    "-----\n",
    "There are many LendingClub data sets on Kaggle. Here is the information on this particular data set:\n",
    "\n",
    "<table border=\"1\" class=\"dataframe\">\n",
    "  <thead>\n",
    "    <tr style=\"text-align: right;\">\n",
    "      <th></th>\n",
    "      <th>LoanStatNew</th>\n",
    "      <th>Description</th>\n",
    "    </tr>\n",
    "  </thead>\n",
    "  <tbody>\n",
    "    <tr>\n",
    "      <th>0</th>\n",
    "      <td>loan_amnt</td>\n",
    "      <td>The listed amount of the loan applied for by the borrower. If at some point in time, the credit department reduces the loan amount, then it will be reflected in this value.</td>\n",
    "    </tr>\n",
    "    <tr>\n",
    "      <th>1</th>\n",
    "      <td>term</td>\n",
    "      <td>The number of payments on the loan. Values are in months and can be either 36 or 60.</td>\n",
    "    </tr>\n",
    "    <tr>\n",
    "      <th>2</th>\n",
    "      <td>int_rate</td>\n",
    "      <td>Interest Rate on the loan</td>\n",
    "    </tr>\n",
    "    <tr>\n",
    "      <th>3</th>\n",
    "      <td>installment</td>\n",
    "      <td>The monthly payment owed by the borrower if the loan originates.</td>\n",
    "    </tr>\n",
    "    <tr>\n",
    "      <th>4</th>\n",
    "      <td>grade</td>\n",
    "      <td>LC assigned loan grade</td>\n",
    "    </tr>\n",
    "    <tr>\n",
    "      <th>5</th>\n",
    "      <td>sub_grade</td>\n",
    "      <td>LC assigned loan subgrade</td>\n",
    "    </tr>\n",
    "    <tr>\n",
    "      <th>6</th>\n",
    "      <td>emp_title</td>\n",
    "      <td>The job title supplied by the Borrower when applying for the loan.*</td>\n",
    "    </tr>\n",
    "    <tr>\n",
    "      <th>7</th>\n",
    "      <td>emp_length</td>\n",
    "      <td>Employment length in years. Possible values are between 0 and 10 where 0 means less than one year and 10 means ten or more years.</td>\n",
    "    </tr>\n",
    "    <tr>\n",
    "      <th>8</th>\n",
    "      <td>home_ownership</td>\n",
    "      <td>The home ownership status provided by the borrower during registration or obtained from the credit report. Our values are: RENT, OWN, MORTGAGE, OTHER</td>\n",
    "    </tr>\n",
    "    <tr>\n",
    "      <th>9</th>\n",
    "      <td>annual_inc</td>\n",
    "      <td>The self-reported annual income provided by the borrower during registration.</td>\n",
    "    </tr>\n",
    "    <tr>\n",
    "      <th>10</th>\n",
    "      <td>verification_status</td>\n",
    "      <td>Indicates if income was verified by LC, not verified, or if the income source was verified</td>\n",
    "    </tr>\n",
    "    <tr>\n",
    "      <th>11</th>\n",
    "      <td>issue_d</td>\n",
    "      <td>The month which the loan was funded</td>\n",
    "    </tr>\n",
    "    <tr>\n",
    "      <th>12</th>\n",
    "      <td>loan_status</td>\n",
    "      <td>Current status of the loan</td>\n",
    "    </tr>\n",
    "    <tr>\n",
    "      <th>13</th>\n",
    "      <td>purpose</td>\n",
    "      <td>A category provided by the borrower for the loan request.</td>\n",
    "    </tr>\n",
    "    <tr>\n",
    "      <th>14</th>\n",
    "      <td>title</td>\n",
    "      <td>The loan title provided by the borrower</td>\n",
    "    </tr>\n",
    "    <tr>\n",
    "      <th>15</th>\n",
    "      <td>zip_code</td>\n",
    "      <td>The first 3 numbers of the zip code provided by the borrower in the loan application.</td>\n",
    "    </tr>\n",
    "    <tr>\n",
    "      <th>16</th>\n",
    "      <td>addr_state</td>\n",
    "      <td>The state provided by the borrower in the loan application</td>\n",
    "    </tr>\n",
    "    <tr>\n",
    "      <th>17</th>\n",
    "      <td>dti</td>\n",
    "      <td>A ratio calculated using the borrower’s total monthly debt payments on the total debt obligations, excluding mortgage and the requested LC loan, divided by the borrower’s self-reported monthly income.</td>\n",
    "    </tr>\n",
    "    <tr>\n",
    "      <th>18</th>\n",
    "      <td>earliest_cr_line</td>\n",
    "      <td>The month the borrower's earliest reported credit line was opened</td>\n",
    "    </tr>\n",
    "    <tr>\n",
    "      <th>19</th>\n",
    "      <td>open_acc</td>\n",
    "      <td>The number of open credit lines in the borrower's credit file.</td>\n",
    "    </tr>\n",
    "    <tr>\n",
    "      <th>20</th>\n",
    "      <td>pub_rec</td>\n",
    "      <td>Number of derogatory public records</td>\n",
    "    </tr>\n",
    "    <tr>\n",
    "      <th>21</th>\n",
    "      <td>revol_bal</td>\n",
    "      <td>Total credit revolving balance</td>\n",
    "    </tr>\n",
    "    <tr>\n",
    "      <th>22</th>\n",
    "      <td>revol_util</td>\n",
    "      <td>Revolving line utilization rate, or the amount of credit the borrower is using relative to all available revolving credit.</td>\n",
    "    </tr>\n",
    "    <tr>\n",
    "      <th>23</th>\n",
    "      <td>total_acc</td>\n",
    "      <td>The total number of credit lines currently in the borrower's credit file</td>\n",
    "    </tr>\n",
    "    <tr>\n",
    "      <th>24</th>\n",
    "      <td>initial_list_status</td>\n",
    "      <td>The initial listing status of the loan. Possible values are – W, F</td>\n",
    "    </tr>\n",
    "    <tr>\n",
    "      <th>25</th>\n",
    "      <td>application_type</td>\n",
    "      <td>Indicates whether the loan is an individual application or a joint application with two co-borrowers</td>\n",
    "    </tr>\n",
    "    <tr>\n",
    "      <th>26</th>\n",
    "      <td>mort_acc</td>\n",
    "      <td>Number of mortgage accounts.</td>\n",
    "    </tr>\n",
    "    <tr>\n",
    "      <th>27</th>\n",
    "      <td>pub_rec_bankruptcies</td>\n",
    "      <td>Number of public record bankruptcies</td>\n",
    "    </tr>\n",
    "  </tbody>\n",
    "</table>\n",
    "\n",
    "---\n",
    "----"
   ]
  },
  {
   "cell_type": "markdown",
   "metadata": {},
   "source": [
    "## Starter Code\n",
    "\n",
    "#### I also provide feature information on the data as a .csv file for easy lookup throughout the notebook:"
   ]
  },
  {
   "cell_type": "code",
   "execution_count": 124,
   "metadata": {},
   "outputs": [],
   "source": [
    "import pandas as pd"
   ]
  },
  {
   "cell_type": "code",
   "execution_count": 125,
   "metadata": {},
   "outputs": [],
   "source": [
    "data_info = pd.read_csv('lending_club_info.csv',index_col='LoanStatNew')"
   ]
  },
  {
   "cell_type": "code",
   "execution_count": 126,
   "metadata": {},
   "outputs": [
    {
     "name": "stdout",
     "output_type": "stream",
     "text": [
      "Revolving line utilization rate, or the amount of credit the borrower is using relative to all available revolving credit.\n"
     ]
    }
   ],
   "source": [
    "print(data_info.loc['revol_util']['Description'])"
   ]
  },
  {
   "cell_type": "code",
   "execution_count": 127,
   "metadata": {},
   "outputs": [],
   "source": [
    "def feat_info(col_name):\n",
    "    print(data_info.loc[col_name]['Description'])"
   ]
  },
  {
   "cell_type": "code",
   "execution_count": 128,
   "metadata": {},
   "outputs": [
    {
     "name": "stdout",
     "output_type": "stream",
     "text": [
      "Number of mortgage accounts.\n"
     ]
    }
   ],
   "source": [
    "feat_info('mort_acc')"
   ]
  },
  {
   "cell_type": "markdown",
   "metadata": {},
   "source": [
    "## Loading the data and other imports"
   ]
  },
  {
   "cell_type": "code",
   "execution_count": 129,
   "metadata": {},
   "outputs": [],
   "source": [
    "import pandas as pd\n",
    "import numpy as np\n",
    "import matplotlib.pyplot as plt\n",
    "import seaborn as sns\n",
    "\n",
    "# might be needed depending on your version of Jupyter\n",
    "%matplotlib inline"
   ]
  },
  {
   "cell_type": "code",
   "execution_count": 130,
   "metadata": {},
   "outputs": [],
   "source": [
    "df = pd.read_csv('lending_club_loan_two.csv')"
   ]
  },
  {
   "cell_type": "code",
   "execution_count": 131,
   "metadata": {},
   "outputs": [
    {
     "name": "stdout",
     "output_type": "stream",
     "text": [
      "<class 'pandas.core.frame.DataFrame'>\n",
      "RangeIndex: 396030 entries, 0 to 396029\n",
      "Data columns (total 27 columns):\n",
      "loan_amnt               396030 non-null float64\n",
      "term                    396030 non-null object\n",
      "int_rate                396030 non-null float64\n",
      "installment             396030 non-null float64\n",
      "grade                   396030 non-null object\n",
      "sub_grade               396030 non-null object\n",
      "emp_title               373103 non-null object\n",
      "emp_length              377729 non-null object\n",
      "home_ownership          396030 non-null object\n",
      "annual_inc              396030 non-null float64\n",
      "verification_status     396030 non-null object\n",
      "issue_d                 396030 non-null object\n",
      "loan_status             396030 non-null object\n",
      "purpose                 396030 non-null object\n",
      "title                   394275 non-null object\n",
      "dti                     396030 non-null float64\n",
      "earliest_cr_line        396030 non-null object\n",
      "open_acc                396030 non-null float64\n",
      "pub_rec                 396030 non-null float64\n",
      "revol_bal               396030 non-null float64\n",
      "revol_util              395754 non-null float64\n",
      "total_acc               396030 non-null float64\n",
      "initial_list_status     396030 non-null object\n",
      "application_type        396030 non-null object\n",
      "mort_acc                358235 non-null float64\n",
      "pub_rec_bankruptcies    395495 non-null float64\n",
      "address                 396030 non-null object\n",
      "dtypes: float64(12), object(15)\n",
      "memory usage: 81.6+ MB\n"
     ]
    }
   ],
   "source": [
    "df.info()"
   ]
  },
  {
   "cell_type": "code",
   "execution_count": 132,
   "metadata": {},
   "outputs": [
    {
     "data": {
      "text/html": [
       "<div>\n",
       "<style scoped>\n",
       "    .dataframe tbody tr th:only-of-type {\n",
       "        vertical-align: middle;\n",
       "    }\n",
       "\n",
       "    .dataframe tbody tr th {\n",
       "        vertical-align: top;\n",
       "    }\n",
       "\n",
       "    .dataframe thead th {\n",
       "        text-align: right;\n",
       "    }\n",
       "</style>\n",
       "<table border=\"1\" class=\"dataframe\">\n",
       "  <thead>\n",
       "    <tr style=\"text-align: right;\">\n",
       "      <th></th>\n",
       "      <th>loan_amnt</th>\n",
       "      <th>term</th>\n",
       "      <th>int_rate</th>\n",
       "      <th>installment</th>\n",
       "      <th>grade</th>\n",
       "      <th>sub_grade</th>\n",
       "      <th>emp_title</th>\n",
       "      <th>emp_length</th>\n",
       "      <th>home_ownership</th>\n",
       "      <th>annual_inc</th>\n",
       "      <th>...</th>\n",
       "      <th>open_acc</th>\n",
       "      <th>pub_rec</th>\n",
       "      <th>revol_bal</th>\n",
       "      <th>revol_util</th>\n",
       "      <th>total_acc</th>\n",
       "      <th>initial_list_status</th>\n",
       "      <th>application_type</th>\n",
       "      <th>mort_acc</th>\n",
       "      <th>pub_rec_bankruptcies</th>\n",
       "      <th>address</th>\n",
       "    </tr>\n",
       "  </thead>\n",
       "  <tbody>\n",
       "    <tr>\n",
       "      <th>0</th>\n",
       "      <td>10000.0</td>\n",
       "      <td>36 months</td>\n",
       "      <td>11.44</td>\n",
       "      <td>329.48</td>\n",
       "      <td>B</td>\n",
       "      <td>B4</td>\n",
       "      <td>Marketing</td>\n",
       "      <td>10+ years</td>\n",
       "      <td>RENT</td>\n",
       "      <td>117000.0</td>\n",
       "      <td>...</td>\n",
       "      <td>16.0</td>\n",
       "      <td>0.0</td>\n",
       "      <td>36369.0</td>\n",
       "      <td>41.8</td>\n",
       "      <td>25.0</td>\n",
       "      <td>w</td>\n",
       "      <td>INDIVIDUAL</td>\n",
       "      <td>0.0</td>\n",
       "      <td>0.0</td>\n",
       "      <td>0174 Michelle Gateway\\nMendozaberg, OK 22690</td>\n",
       "    </tr>\n",
       "    <tr>\n",
       "      <th>1</th>\n",
       "      <td>8000.0</td>\n",
       "      <td>36 months</td>\n",
       "      <td>11.99</td>\n",
       "      <td>265.68</td>\n",
       "      <td>B</td>\n",
       "      <td>B5</td>\n",
       "      <td>Credit analyst</td>\n",
       "      <td>4 years</td>\n",
       "      <td>MORTGAGE</td>\n",
       "      <td>65000.0</td>\n",
       "      <td>...</td>\n",
       "      <td>17.0</td>\n",
       "      <td>0.0</td>\n",
       "      <td>20131.0</td>\n",
       "      <td>53.3</td>\n",
       "      <td>27.0</td>\n",
       "      <td>f</td>\n",
       "      <td>INDIVIDUAL</td>\n",
       "      <td>3.0</td>\n",
       "      <td>0.0</td>\n",
       "      <td>1076 Carney Fort Apt. 347\\nLoganmouth, SD 05113</td>\n",
       "    </tr>\n",
       "    <tr>\n",
       "      <th>2</th>\n",
       "      <td>15600.0</td>\n",
       "      <td>36 months</td>\n",
       "      <td>10.49</td>\n",
       "      <td>506.97</td>\n",
       "      <td>B</td>\n",
       "      <td>B3</td>\n",
       "      <td>Statistician</td>\n",
       "      <td>&lt; 1 year</td>\n",
       "      <td>RENT</td>\n",
       "      <td>43057.0</td>\n",
       "      <td>...</td>\n",
       "      <td>13.0</td>\n",
       "      <td>0.0</td>\n",
       "      <td>11987.0</td>\n",
       "      <td>92.2</td>\n",
       "      <td>26.0</td>\n",
       "      <td>f</td>\n",
       "      <td>INDIVIDUAL</td>\n",
       "      <td>0.0</td>\n",
       "      <td>0.0</td>\n",
       "      <td>87025 Mark Dale Apt. 269\\nNew Sabrina, WV 05113</td>\n",
       "    </tr>\n",
       "    <tr>\n",
       "      <th>3</th>\n",
       "      <td>7200.0</td>\n",
       "      <td>36 months</td>\n",
       "      <td>6.49</td>\n",
       "      <td>220.65</td>\n",
       "      <td>A</td>\n",
       "      <td>A2</td>\n",
       "      <td>Client Advocate</td>\n",
       "      <td>6 years</td>\n",
       "      <td>RENT</td>\n",
       "      <td>54000.0</td>\n",
       "      <td>...</td>\n",
       "      <td>6.0</td>\n",
       "      <td>0.0</td>\n",
       "      <td>5472.0</td>\n",
       "      <td>21.5</td>\n",
       "      <td>13.0</td>\n",
       "      <td>f</td>\n",
       "      <td>INDIVIDUAL</td>\n",
       "      <td>0.0</td>\n",
       "      <td>0.0</td>\n",
       "      <td>823 Reid Ford\\nDelacruzside, MA 00813</td>\n",
       "    </tr>\n",
       "    <tr>\n",
       "      <th>4</th>\n",
       "      <td>24375.0</td>\n",
       "      <td>60 months</td>\n",
       "      <td>17.27</td>\n",
       "      <td>609.33</td>\n",
       "      <td>C</td>\n",
       "      <td>C5</td>\n",
       "      <td>Destiny Management Inc.</td>\n",
       "      <td>9 years</td>\n",
       "      <td>MORTGAGE</td>\n",
       "      <td>55000.0</td>\n",
       "      <td>...</td>\n",
       "      <td>13.0</td>\n",
       "      <td>0.0</td>\n",
       "      <td>24584.0</td>\n",
       "      <td>69.8</td>\n",
       "      <td>43.0</td>\n",
       "      <td>f</td>\n",
       "      <td>INDIVIDUAL</td>\n",
       "      <td>1.0</td>\n",
       "      <td>0.0</td>\n",
       "      <td>679 Luna Roads\\nGreggshire, VA 11650</td>\n",
       "    </tr>\n",
       "  </tbody>\n",
       "</table>\n",
       "<p>5 rows × 27 columns</p>\n",
       "</div>"
      ],
      "text/plain": [
       "   loan_amnt        term  int_rate  installment grade sub_grade  \\\n",
       "0    10000.0   36 months     11.44       329.48     B        B4   \n",
       "1     8000.0   36 months     11.99       265.68     B        B5   \n",
       "2    15600.0   36 months     10.49       506.97     B        B3   \n",
       "3     7200.0   36 months      6.49       220.65     A        A2   \n",
       "4    24375.0   60 months     17.27       609.33     C        C5   \n",
       "\n",
       "                 emp_title emp_length home_ownership  annual_inc  ...  \\\n",
       "0                Marketing  10+ years           RENT    117000.0  ...   \n",
       "1          Credit analyst     4 years       MORTGAGE     65000.0  ...   \n",
       "2             Statistician   < 1 year           RENT     43057.0  ...   \n",
       "3          Client Advocate    6 years           RENT     54000.0  ...   \n",
       "4  Destiny Management Inc.    9 years       MORTGAGE     55000.0  ...   \n",
       "\n",
       "  open_acc pub_rec revol_bal revol_util total_acc  initial_list_status  \\\n",
       "0     16.0     0.0   36369.0       41.8      25.0                    w   \n",
       "1     17.0     0.0   20131.0       53.3      27.0                    f   \n",
       "2     13.0     0.0   11987.0       92.2      26.0                    f   \n",
       "3      6.0     0.0    5472.0       21.5      13.0                    f   \n",
       "4     13.0     0.0   24584.0       69.8      43.0                    f   \n",
       "\n",
       "  application_type  mort_acc  pub_rec_bankruptcies  \\\n",
       "0       INDIVIDUAL       0.0                   0.0   \n",
       "1       INDIVIDUAL       3.0                   0.0   \n",
       "2       INDIVIDUAL       0.0                   0.0   \n",
       "3       INDIVIDUAL       0.0                   0.0   \n",
       "4       INDIVIDUAL       1.0                   0.0   \n",
       "\n",
       "                                           address  \n",
       "0     0174 Michelle Gateway\\nMendozaberg, OK 22690  \n",
       "1  1076 Carney Fort Apt. 347\\nLoganmouth, SD 05113  \n",
       "2  87025 Mark Dale Apt. 269\\nNew Sabrina, WV 05113  \n",
       "3            823 Reid Ford\\nDelacruzside, MA 00813  \n",
       "4             679 Luna Roads\\nGreggshire, VA 11650  \n",
       "\n",
       "[5 rows x 27 columns]"
      ]
     },
     "execution_count": 132,
     "metadata": {},
     "output_type": "execute_result"
    }
   ],
   "source": [
    "df.head(5)"
   ]
  },
  {
   "cell_type": "markdown",
   "metadata": {},
   "source": [
    "# Section 1: Exploratory Data Analysis\n",
    "\n",
    "**Section goals: Getting an understanding for which variables are important, view summary statistics, and visualize the data**"
   ]
  },
  {
   "cell_type": "code",
   "execution_count": 133,
   "metadata": {
    "scrolled": false
   },
   "outputs": [
    {
     "data": {
      "text/plain": [
       "<matplotlib.axes._subplots.AxesSubplot at 0x26300c67648>"
      ]
     },
     "execution_count": 133,
     "metadata": {},
     "output_type": "execute_result"
    },
    {
     "data": {
      "image/png": "[encoded data removed]",
      "text/plain": [
       "<Figure size 432x288 with 1 Axes>"
      ]
     },
     "metadata": {
      "needs_background": "light"
     },
     "output_type": "display_data"
    }
   ],
   "source": [
    "sns.countplot(x='loan_status',data=df)"
   ]
  },
  {
   "cell_type": "code",
   "execution_count": 134,
   "metadata": {},
   "outputs": [
    {
     "data": {
      "text/plain": [
       "(0.0, 45000.0)"
      ]
     },
     "execution_count": 134,
     "metadata": {},
     "output_type": "execute_result"
    },
    {
     "data": {
      "image/png": "[encoded data removed]",
      "text/plain": [
       "<Figure size 864x432 with 1 Axes>"
      ]
     },
     "metadata": {
      "needs_background": "light"
     },
     "output_type": "display_data"
    }
   ],
   "source": [
    "plt.figure(figsize=(12,6))\n",
    "plt.rcParams[\"patch.force_edgecolor\"] = True\n",
    "sns.distplot(df['loan_amnt'], kde=False, bins=40)\n",
    "plt.xlim(0, 45000)"
   ]
  },
  {
   "cell_type": "code",
   "execution_count": 135,
   "metadata": {},
   "outputs": [
    {
     "data": {
      "text/html": [
       "<div>\n",
       "<style scoped>\n",
       "    .dataframe tbody tr th:only-of-type {\n",
       "        vertical-align: middle;\n",
       "    }\n",
       "\n",
       "    .dataframe tbody tr th {\n",
       "        vertical-align: top;\n",
       "    }\n",
       "\n",
       "    .dataframe thead th {\n",
       "        text-align: right;\n",
       "    }\n",
       "</style>\n",
       "<table border=\"1\" class=\"dataframe\">\n",
       "  <thead>\n",
       "    <tr style=\"text-align: right;\">\n",
       "      <th></th>\n",
       "      <th>loan_amnt</th>\n",
       "      <th>int_rate</th>\n",
       "      <th>installment</th>\n",
       "      <th>annual_inc</th>\n",
       "      <th>dti</th>\n",
       "      <th>open_acc</th>\n",
       "      <th>pub_rec</th>\n",
       "      <th>revol_bal</th>\n",
       "      <th>revol_util</th>\n",
       "      <th>total_acc</th>\n",
       "      <th>mort_acc</th>\n",
       "      <th>pub_rec_bankruptcies</th>\n",
       "    </tr>\n",
       "  </thead>\n",
       "  <tbody>\n",
       "    <tr>\n",
       "      <th>loan_amnt</th>\n",
       "      <td>1.000000</td>\n",
       "      <td>0.168921</td>\n",
       "      <td>0.953929</td>\n",
       "      <td>0.336887</td>\n",
       "      <td>0.016636</td>\n",
       "      <td>0.198556</td>\n",
       "      <td>-0.077779</td>\n",
       "      <td>0.328320</td>\n",
       "      <td>0.099911</td>\n",
       "      <td>0.223886</td>\n",
       "      <td>0.222315</td>\n",
       "      <td>-0.106539</td>\n",
       "    </tr>\n",
       "    <tr>\n",
       "      <th>int_rate</th>\n",
       "      <td>0.168921</td>\n",
       "      <td>1.000000</td>\n",
       "      <td>0.162758</td>\n",
       "      <td>-0.056771</td>\n",
       "      <td>0.079038</td>\n",
       "      <td>0.011649</td>\n",
       "      <td>0.060986</td>\n",
       "      <td>-0.011280</td>\n",
       "      <td>0.293659</td>\n",
       "      <td>-0.036404</td>\n",
       "      <td>-0.082583</td>\n",
       "      <td>0.057450</td>\n",
       "    </tr>\n",
       "    <tr>\n",
       "      <th>installment</th>\n",
       "      <td>0.953929</td>\n",
       "      <td>0.162758</td>\n",
       "      <td>1.000000</td>\n",
       "      <td>0.330381</td>\n",
       "      <td>0.015786</td>\n",
       "      <td>0.188973</td>\n",
       "      <td>-0.067892</td>\n",
       "      <td>0.316455</td>\n",
       "      <td>0.123915</td>\n",
       "      <td>0.202430</td>\n",
       "      <td>0.193694</td>\n",
       "      <td>-0.098628</td>\n",
       "    </tr>\n",
       "    <tr>\n",
       "      <th>annual_inc</th>\n",
       "      <td>0.336887</td>\n",
       "      <td>-0.056771</td>\n",
       "      <td>0.330381</td>\n",
       "      <td>1.000000</td>\n",
       "      <td>-0.081685</td>\n",
       "      <td>0.136150</td>\n",
       "      <td>-0.013720</td>\n",
       "      <td>0.299773</td>\n",
       "      <td>0.027871</td>\n",
       "      <td>0.193023</td>\n",
       "      <td>0.236320</td>\n",
       "      <td>-0.050162</td>\n",
       "    </tr>\n",
       "    <tr>\n",
       "      <th>dti</th>\n",
       "      <td>0.016636</td>\n",
       "      <td>0.079038</td>\n",
       "      <td>0.015786</td>\n",
       "      <td>-0.081685</td>\n",
       "      <td>1.000000</td>\n",
       "      <td>0.136181</td>\n",
       "      <td>-0.017639</td>\n",
       "      <td>0.063571</td>\n",
       "      <td>0.088375</td>\n",
       "      <td>0.102128</td>\n",
       "      <td>-0.025439</td>\n",
       "      <td>-0.014558</td>\n",
       "    </tr>\n",
       "    <tr>\n",
       "      <th>open_acc</th>\n",
       "      <td>0.198556</td>\n",
       "      <td>0.011649</td>\n",
       "      <td>0.188973</td>\n",
       "      <td>0.136150</td>\n",
       "      <td>0.136181</td>\n",
       "      <td>1.000000</td>\n",
       "      <td>-0.018392</td>\n",
       "      <td>0.221192</td>\n",
       "      <td>-0.131420</td>\n",
       "      <td>0.680728</td>\n",
       "      <td>0.109205</td>\n",
       "      <td>-0.027732</td>\n",
       "    </tr>\n",
       "    <tr>\n",
       "      <th>pub_rec</th>\n",
       "      <td>-0.077779</td>\n",
       "      <td>0.060986</td>\n",
       "      <td>-0.067892</td>\n",
       "      <td>-0.013720</td>\n",
       "      <td>-0.017639</td>\n",
       "      <td>-0.018392</td>\n",
       "      <td>1.000000</td>\n",
       "      <td>-0.101664</td>\n",
       "      <td>-0.075910</td>\n",
       "      <td>0.019723</td>\n",
       "      <td>0.011552</td>\n",
       "      <td>0.699408</td>\n",
       "    </tr>\n",
       "    <tr>\n",
       "      <th>revol_bal</th>\n",
       "      <td>0.328320</td>\n",
       "      <td>-0.011280</td>\n",
       "      <td>0.316455</td>\n",
       "      <td>0.299773</td>\n",
       "      <td>0.063571</td>\n",
       "      <td>0.221192</td>\n",
       "      <td>-0.101664</td>\n",
       "      <td>1.000000</td>\n",
       "      <td>0.226346</td>\n",
       "      <td>0.191616</td>\n",
       "      <td>0.194925</td>\n",
       "      <td>-0.124532</td>\n",
       "    </tr>\n",
       "    <tr>\n",
       "      <th>revol_util</th>\n",
       "      <td>0.099911</td>\n",
       "      <td>0.293659</td>\n",
       "      <td>0.123915</td>\n",
       "      <td>0.027871</td>\n",
       "      <td>0.088375</td>\n",
       "      <td>-0.131420</td>\n",
       "      <td>-0.075910</td>\n",
       "      <td>0.226346</td>\n",
       "      <td>1.000000</td>\n",
       "      <td>-0.104273</td>\n",
       "      <td>0.007514</td>\n",
       "      <td>-0.086751</td>\n",
       "    </tr>\n",
       "    <tr>\n",
       "      <th>total_acc</th>\n",
       "      <td>0.223886</td>\n",
       "      <td>-0.036404</td>\n",
       "      <td>0.202430</td>\n",
       "      <td>0.193023</td>\n",
       "      <td>0.102128</td>\n",
       "      <td>0.680728</td>\n",
       "      <td>0.019723</td>\n",
       "      <td>0.191616</td>\n",
       "      <td>-0.104273</td>\n",
       "      <td>1.000000</td>\n",
       "      <td>0.381072</td>\n",
       "      <td>0.042035</td>\n",
       "    </tr>\n",
       "    <tr>\n",
       "      <th>mort_acc</th>\n",
       "      <td>0.222315</td>\n",
       "      <td>-0.082583</td>\n",
       "      <td>0.193694</td>\n",
       "      <td>0.236320</td>\n",
       "      <td>-0.025439</td>\n",
       "      <td>0.109205</td>\n",
       "      <td>0.011552</td>\n",
       "      <td>0.194925</td>\n",
       "      <td>0.007514</td>\n",
       "      <td>0.381072</td>\n",
       "      <td>1.000000</td>\n",
       "      <td>0.027239</td>\n",
       "    </tr>\n",
       "    <tr>\n",
       "      <th>pub_rec_bankruptcies</th>\n",
       "      <td>-0.106539</td>\n",
       "      <td>0.057450</td>\n",
       "      <td>-0.098628</td>\n",
       "      <td>-0.050162</td>\n",
       "      <td>-0.014558</td>\n",
       "      <td>-0.027732</td>\n",
       "      <td>0.699408</td>\n",
       "      <td>-0.124532</td>\n",
       "      <td>-0.086751</td>\n",
       "      <td>0.042035</td>\n",
       "      <td>0.027239</td>\n",
       "      <td>1.000000</td>\n",
       "    </tr>\n",
       "  </tbody>\n",
       "</table>\n",
       "</div>"
      ],
      "text/plain": [
       "                      loan_amnt  int_rate  installment  annual_inc       dti  \\\n",
       "loan_amnt              1.000000  0.168921     0.953929    0.336887  0.016636   \n",
       "int_rate               0.168921  1.000000     0.162758   -0.056771  0.079038   \n",
       "installment            0.953929  0.162758     1.000000    0.330381  0.015786   \n",
       "annual_inc             0.336887 -0.056771     0.330381    1.000000 -0.081685   \n",
       "dti                    0.016636  0.079038     0.015786   -0.081685  1.000000   \n",
       "open_acc               0.198556  0.011649     0.188973    0.136150  0.136181   \n",
       "pub_rec               -0.077779  0.060986    -0.067892   -0.013720 -0.017639   \n",
       "revol_bal              0.328320 -0.011280     0.316455    0.299773  0.063571   \n",
       "revol_util             0.099911  0.293659     0.123915    0.027871  0.088375   \n",
       "total_acc              0.223886 -0.036404     0.202430    0.193023  0.102128   \n",
       "mort_acc               0.222315 -0.082583     0.193694    0.236320 -0.025439   \n",
       "pub_rec_bankruptcies  -0.106539  0.057450    -0.098628   -0.050162 -0.014558   \n",
       "\n",
       "                      open_acc   pub_rec  revol_bal  revol_util  total_acc  \\\n",
       "loan_amnt             0.198556 -0.077779   0.328320    0.099911   0.223886   \n",
       "int_rate              0.011649  0.060986  -0.011280    0.293659  -0.036404   \n",
       "installment           0.188973 -0.067892   0.316455    0.123915   0.202430   \n",
       "annual_inc            0.136150 -0.013720   0.299773    0.027871   0.193023   \n",
       "dti                   0.136181 -0.017639   0.063571    0.088375   0.102128   \n",
       "open_acc              1.000000 -0.018392   0.221192   -0.131420   0.680728   \n",
       "pub_rec              -0.018392  1.000000  -0.101664   -0.075910   0.019723   \n",
       "revol_bal             0.221192 -0.101664   1.000000    0.226346   0.191616   \n",
       "revol_util           -0.131420 -0.075910   0.226346    1.000000  -0.104273   \n",
       "total_acc             0.680728  0.019723   0.191616   -0.104273   1.000000   \n",
       "mort_acc              0.109205  0.011552   0.194925    0.007514   0.381072   \n",
       "pub_rec_bankruptcies -0.027732  0.699408  -0.124532   -0.086751   0.042035   \n",
       "\n",
       "                      mort_acc  pub_rec_bankruptcies  \n",
       "loan_amnt             0.222315             -0.106539  \n",
       "int_rate             -0.082583              0.057450  \n",
       "installment           0.193694             -0.098628  \n",
       "annual_inc            0.236320             -0.050162  \n",
       "dti                  -0.025439             -0.014558  \n",
       "open_acc              0.109205             -0.027732  \n",
       "pub_rec               0.011552              0.699408  \n",
       "revol_bal             0.194925             -0.124532  \n",
       "revol_util            0.007514             -0.086751  \n",
       "total_acc             0.381072              0.042035  \n",
       "mort_acc              1.000000              0.027239  \n",
       "pub_rec_bankruptcies  0.027239              1.000000  "
      ]
     },
     "execution_count": 135,
     "metadata": {},
     "output_type": "execute_result"
    }
   ],
   "source": [
    "df.corr()"
   ]
  },
  {
   "cell_type": "code",
   "execution_count": 136,
   "metadata": {},
   "outputs": [
    {
     "data": {
      "text/plain": [
       "(10.0, 0.0)"
      ]
     },
     "execution_count": 136,
     "metadata": {},
     "output_type": "execute_result"
    },
    {
     "data": {
      "image/png": "[encoded data removed]",
      "text/plain": [
       "<Figure size 864x504 with 2 Axes>"
      ]
     },
     "metadata": {
      "needs_background": "light"
     },
     "output_type": "display_data"
    }
   ],
   "source": [
    "plt.figure(figsize=(12,7))\n",
    "sns.heatmap(df.corr(),annot=True,cmap='viridis')\n",
    "plt.ylim(10, 0)"
   ]
  },
  {
   "cell_type": "code",
   "execution_count": 137,
   "metadata": {},
   "outputs": [
    {
     "data": {
      "text/html": [
       "<div>\n",
       "<style scoped>\n",
       "    .dataframe tbody tr th:only-of-type {\n",
       "        vertical-align: middle;\n",
       "    }\n",
       "\n",
       "    .dataframe tbody tr th {\n",
       "        vertical-align: top;\n",
       "    }\n",
       "\n",
       "    .dataframe thead th {\n",
       "        text-align: right;\n",
       "    }\n",
       "</style>\n",
       "<table border=\"1\" class=\"dataframe\">\n",
       "  <thead>\n",
       "    <tr style=\"text-align: right;\">\n",
       "      <th></th>\n",
       "      <th>loan_amnt</th>\n",
       "      <th>term</th>\n",
       "      <th>int_rate</th>\n",
       "      <th>installment</th>\n",
       "      <th>grade</th>\n",
       "      <th>sub_grade</th>\n",
       "      <th>emp_title</th>\n",
       "      <th>emp_length</th>\n",
       "      <th>home_ownership</th>\n",
       "      <th>annual_inc</th>\n",
       "      <th>...</th>\n",
       "      <th>open_acc</th>\n",
       "      <th>pub_rec</th>\n",
       "      <th>revol_bal</th>\n",
       "      <th>revol_util</th>\n",
       "      <th>total_acc</th>\n",
       "      <th>initial_list_status</th>\n",
       "      <th>application_type</th>\n",
       "      <th>mort_acc</th>\n",
       "      <th>pub_rec_bankruptcies</th>\n",
       "      <th>address</th>\n",
       "    </tr>\n",
       "  </thead>\n",
       "  <tbody>\n",
       "    <tr>\n",
       "      <th>0</th>\n",
       "      <td>10000.0</td>\n",
       "      <td>36 months</td>\n",
       "      <td>11.44</td>\n",
       "      <td>329.48</td>\n",
       "      <td>B</td>\n",
       "      <td>B4</td>\n",
       "      <td>Marketing</td>\n",
       "      <td>10+ years</td>\n",
       "      <td>RENT</td>\n",
       "      <td>117000.0</td>\n",
       "      <td>...</td>\n",
       "      <td>16.0</td>\n",
       "      <td>0.0</td>\n",
       "      <td>36369.0</td>\n",
       "      <td>41.8</td>\n",
       "      <td>25.0</td>\n",
       "      <td>w</td>\n",
       "      <td>INDIVIDUAL</td>\n",
       "      <td>0.0</td>\n",
       "      <td>0.0</td>\n",
       "      <td>0174 Michelle Gateway\\nMendozaberg, OK 22690</td>\n",
       "    </tr>\n",
       "    <tr>\n",
       "      <th>1</th>\n",
       "      <td>8000.0</td>\n",
       "      <td>36 months</td>\n",
       "      <td>11.99</td>\n",
       "      <td>265.68</td>\n",
       "      <td>B</td>\n",
       "      <td>B5</td>\n",
       "      <td>Credit analyst</td>\n",
       "      <td>4 years</td>\n",
       "      <td>MORTGAGE</td>\n",
       "      <td>65000.0</td>\n",
       "      <td>...</td>\n",
       "      <td>17.0</td>\n",
       "      <td>0.0</td>\n",
       "      <td>20131.0</td>\n",
       "      <td>53.3</td>\n",
       "      <td>27.0</td>\n",
       "      <td>f</td>\n",
       "      <td>INDIVIDUAL</td>\n",
       "      <td>3.0</td>\n",
       "      <td>0.0</td>\n",
       "      <td>1076 Carney Fort Apt. 347\\nLoganmouth, SD 05113</td>\n",
       "    </tr>\n",
       "    <tr>\n",
       "      <th>2</th>\n",
       "      <td>15600.0</td>\n",
       "      <td>36 months</td>\n",
       "      <td>10.49</td>\n",
       "      <td>506.97</td>\n",
       "      <td>B</td>\n",
       "      <td>B3</td>\n",
       "      <td>Statistician</td>\n",
       "      <td>&lt; 1 year</td>\n",
       "      <td>RENT</td>\n",
       "      <td>43057.0</td>\n",
       "      <td>...</td>\n",
       "      <td>13.0</td>\n",
       "      <td>0.0</td>\n",
       "      <td>11987.0</td>\n",
       "      <td>92.2</td>\n",
       "      <td>26.0</td>\n",
       "      <td>f</td>\n",
       "      <td>INDIVIDUAL</td>\n",
       "      <td>0.0</td>\n",
       "      <td>0.0</td>\n",
       "      <td>87025 Mark Dale Apt. 269\\nNew Sabrina, WV 05113</td>\n",
       "    </tr>\n",
       "    <tr>\n",
       "      <th>3</th>\n",
       "      <td>7200.0</td>\n",
       "      <td>36 months</td>\n",
       "      <td>6.49</td>\n",
       "      <td>220.65</td>\n",
       "      <td>A</td>\n",
       "      <td>A2</td>\n",
       "      <td>Client Advocate</td>\n",
       "      <td>6 years</td>\n",
       "      <td>RENT</td>\n",
       "      <td>54000.0</td>\n",
       "      <td>...</td>\n",
       "      <td>6.0</td>\n",
       "      <td>0.0</td>\n",
       "      <td>5472.0</td>\n",
       "      <td>21.5</td>\n",
       "      <td>13.0</td>\n",
       "      <td>f</td>\n",
       "      <td>INDIVIDUAL</td>\n",
       "      <td>0.0</td>\n",
       "      <td>0.0</td>\n",
       "      <td>823 Reid Ford\\nDelacruzside, MA 00813</td>\n",
       "    </tr>\n",
       "    <tr>\n",
       "      <th>4</th>\n",
       "      <td>24375.0</td>\n",
       "      <td>60 months</td>\n",
       "      <td>17.27</td>\n",
       "      <td>609.33</td>\n",
       "      <td>C</td>\n",
       "      <td>C5</td>\n",
       "      <td>Destiny Management Inc.</td>\n",
       "      <td>9 years</td>\n",
       "      <td>MORTGAGE</td>\n",
       "      <td>55000.0</td>\n",
       "      <td>...</td>\n",
       "      <td>13.0</td>\n",
       "      <td>0.0</td>\n",
       "      <td>24584.0</td>\n",
       "      <td>69.8</td>\n",
       "      <td>43.0</td>\n",
       "      <td>f</td>\n",
       "      <td>INDIVIDUAL</td>\n",
       "      <td>1.0</td>\n",
       "      <td>0.0</td>\n",
       "      <td>679 Luna Roads\\nGreggshire, VA 11650</td>\n",
       "    </tr>\n",
       "  </tbody>\n",
       "</table>\n",
       "<p>5 rows × 27 columns</p>\n",
       "</div>"
      ],
      "text/plain": [
       "   loan_amnt        term  int_rate  installment grade sub_grade  \\\n",
       "0    10000.0   36 months     11.44       329.48     B        B4   \n",
       "1     8000.0   36 months     11.99       265.68     B        B5   \n",
       "2    15600.0   36 months     10.49       506.97     B        B3   \n",
       "3     7200.0   36 months      6.49       220.65     A        A2   \n",
       "4    24375.0   60 months     17.27       609.33     C        C5   \n",
       "\n",
       "                 emp_title emp_length home_ownership  annual_inc  ...  \\\n",
       "0                Marketing  10+ years           RENT    117000.0  ...   \n",
       "1          Credit analyst     4 years       MORTGAGE     65000.0  ...   \n",
       "2             Statistician   < 1 year           RENT     43057.0  ...   \n",
       "3          Client Advocate    6 years           RENT     54000.0  ...   \n",
       "4  Destiny Management Inc.    9 years       MORTGAGE     55000.0  ...   \n",
       "\n",
       "  open_acc pub_rec revol_bal revol_util total_acc  initial_list_status  \\\n",
       "0     16.0     0.0   36369.0       41.8      25.0                    w   \n",
       "1     17.0     0.0   20131.0       53.3      27.0                    f   \n",
       "2     13.0     0.0   11987.0       92.2      26.0                    f   \n",
       "3      6.0     0.0    5472.0       21.5      13.0                    f   \n",
       "4     13.0     0.0   24584.0       69.8      43.0                    f   \n",
       "\n",
       "  application_type  mort_acc  pub_rec_bankruptcies  \\\n",
       "0       INDIVIDUAL       0.0                   0.0   \n",
       "1       INDIVIDUAL       3.0                   0.0   \n",
       "2       INDIVIDUAL       0.0                   0.0   \n",
       "3       INDIVIDUAL       0.0                   0.0   \n",
       "4       INDIVIDUAL       1.0                   0.0   \n",
       "\n",
       "                                           address  \n",
       "0     0174 Michelle Gateway\\nMendozaberg, OK 22690  \n",
       "1  1076 Carney Fort Apt. 347\\nLoganmouth, SD 05113  \n",
       "2  87025 Mark Dale Apt. 269\\nNew Sabrina, WV 05113  \n",
       "3            823 Reid Ford\\nDelacruzside, MA 00813  \n",
       "4             679 Luna Roads\\nGreggshire, VA 11650  \n",
       "\n",
       "[5 rows x 27 columns]"
      ]
     },
     "execution_count": 137,
     "metadata": {},
     "output_type": "execute_result"
    }
   ],
   "source": [
    "df.head()"
   ]
  },
  {
   "cell_type": "markdown",
   "metadata": {},
   "source": [
    "**There is almost perfect correlation between \"loan_amnt\" and \"installment\" features. I will explore these features further to understand whether this relationship makes sense or not.**"
   ]
  },
  {
   "cell_type": "code",
   "execution_count": 138,
   "metadata": {},
   "outputs": [
    {
     "name": "stdout",
     "output_type": "stream",
     "text": [
      "The monthly payment owed by the borrower if the loan originates.\n"
     ]
    }
   ],
   "source": [
    "feat_info('installment')"
   ]
  },
  {
   "cell_type": "code",
   "execution_count": 139,
   "metadata": {},
   "outputs": [
    {
     "name": "stdout",
     "output_type": "stream",
     "text": [
      "The listed amount of the loan applied for by the borrower. If at some point in time, the credit department reduces the loan amount, then it will be reflected in this value.\n"
     ]
    }
   ],
   "source": [
    "feat_info('loan_amnt')"
   ]
  },
  {
   "cell_type": "code",
   "execution_count": 140,
   "metadata": {},
   "outputs": [
    {
     "data": {
      "text/plain": [
       "<matplotlib.axes._subplots.AxesSubplot at 0x263159b7488>"
      ]
     },
     "execution_count": 140,
     "metadata": {},
     "output_type": "execute_result"
    },
    {
     "data": {
      "image/png": "[encoded data removed]",
      "text/plain": [
       "<Figure size 864x432 with 1 Axes>"
      ]
     },
     "metadata": {
      "needs_background": "light"
     },
     "output_type": "display_data"
    }
   ],
   "source": [
    "plt.figure(figsize = (12,6))\n",
    "sns.scatterplot(x='installment', y='loan_amnt', data=df)"
   ]
  },
  {
   "cell_type": "markdown",
   "metadata": {},
   "source": [
    "**Creating a boxplot showing the relationship between the loan_status and the Loan Amount.**"
   ]
  },
  {
   "cell_type": "code",
   "execution_count": 141,
   "metadata": {},
   "outputs": [
    {
     "data": {
      "text/plain": [
       "<matplotlib.axes._subplots.AxesSubplot at 0x2631633f988>"
      ]
     },
     "execution_count": 141,
     "metadata": {},
     "output_type": "execute_result"
    },
    {
     "data": {
      "image/png": "[encoded data removed]",
      "text/plain": [
       "<Figure size 432x288 with 1 Axes>"
      ]
     },
     "metadata": {
      "needs_background": "light"
     },
     "output_type": "display_data"
    }
   ],
   "source": [
    "sns.boxplot(x='loan_status', y='loan_amnt', data=df)"
   ]
  },
  {
   "cell_type": "markdown",
   "metadata": {},
   "source": [
    "**Calculating the summary statistics for the loan amount, grouped by the loan_status.**"
   ]
  },
  {
   "cell_type": "code",
   "execution_count": 142,
   "metadata": {},
   "outputs": [
    {
     "data": {
      "text/html": [
       "<div>\n",
       "<style scoped>\n",
       "    .dataframe tbody tr th:only-of-type {\n",
       "        vertical-align: middle;\n",
       "    }\n",
       "\n",
       "    .dataframe tbody tr th {\n",
       "        vertical-align: top;\n",
       "    }\n",
       "\n",
       "    .dataframe thead th {\n",
       "        text-align: right;\n",
       "    }\n",
       "</style>\n",
       "<table border=\"1\" class=\"dataframe\">\n",
       "  <thead>\n",
       "    <tr style=\"text-align: right;\">\n",
       "      <th></th>\n",
       "      <th>count</th>\n",
       "      <th>mean</th>\n",
       "      <th>std</th>\n",
       "      <th>min</th>\n",
       "      <th>25%</th>\n",
       "      <th>50%</th>\n",
       "      <th>75%</th>\n",
       "      <th>max</th>\n",
       "    </tr>\n",
       "    <tr>\n",
       "      <th>loan_status</th>\n",
       "      <th></th>\n",
       "      <th></th>\n",
       "      <th></th>\n",
       "      <th></th>\n",
       "      <th></th>\n",
       "      <th></th>\n",
       "      <th></th>\n",
       "      <th></th>\n",
       "    </tr>\n",
       "  </thead>\n",
       "  <tbody>\n",
       "    <tr>\n",
       "      <th>Charged Off</th>\n",
       "      <td>77673.0</td>\n",
       "      <td>15126.300967</td>\n",
       "      <td>8505.090557</td>\n",
       "      <td>1000.0</td>\n",
       "      <td>8525.0</td>\n",
       "      <td>14000.0</td>\n",
       "      <td>20000.0</td>\n",
       "      <td>40000.0</td>\n",
       "    </tr>\n",
       "    <tr>\n",
       "      <th>Fully Paid</th>\n",
       "      <td>318357.0</td>\n",
       "      <td>13866.878771</td>\n",
       "      <td>8302.319699</td>\n",
       "      <td>500.0</td>\n",
       "      <td>7500.0</td>\n",
       "      <td>12000.0</td>\n",
       "      <td>19225.0</td>\n",
       "      <td>40000.0</td>\n",
       "    </tr>\n",
       "  </tbody>\n",
       "</table>\n",
       "</div>"
      ],
      "text/plain": [
       "                count          mean          std     min     25%      50%  \\\n",
       "loan_status                                                                 \n",
       "Charged Off   77673.0  15126.300967  8505.090557  1000.0  8525.0  14000.0   \n",
       "Fully Paid   318357.0  13866.878771  8302.319699   500.0  7500.0  12000.0   \n",
       "\n",
       "                 75%      max  \n",
       "loan_status                    \n",
       "Charged Off  20000.0  40000.0  \n",
       "Fully Paid   19225.0  40000.0  "
      ]
     },
     "execution_count": 142,
     "metadata": {},
     "output_type": "execute_result"
    }
   ],
   "source": [
    "df.groupby('loan_status')['loan_amnt'].describe()"
   ]
  },
  {
   "cell_type": "markdown",
   "metadata": {},
   "source": [
    "**Exploring the Grade and SubGrade columns that LendingClub attributes to the loans. What are the unique possible grades and subgrades?**"
   ]
  },
  {
   "cell_type": "code",
   "execution_count": 143,
   "metadata": {},
   "outputs": [
    {
     "name": "stdout",
     "output_type": "stream",
     "text": [
      "LC assigned loan subgrade\n"
     ]
    }
   ],
   "source": [
    "feat_info('sub_grade')"
   ]
  },
  {
   "cell_type": "code",
   "execution_count": 144,
   "metadata": {},
   "outputs": [
    {
     "data": {
      "text/plain": [
       "['A', 'B', 'C', 'D', 'E', 'F', 'G']"
      ]
     },
     "execution_count": 144,
     "metadata": {},
     "output_type": "execute_result"
    }
   ],
   "source": [
    "sorted(df['grade'].unique())"
   ]
  },
  {
   "cell_type": "code",
   "execution_count": 145,
   "metadata": {},
   "outputs": [
    {
     "data": {
      "text/plain": [
       "['A1',\n",
       " 'A2',\n",
       " 'A3',\n",
       " 'A4',\n",
       " 'A5',\n",
       " 'B1',\n",
       " 'B2',\n",
       " 'B3',\n",
       " 'B4',\n",
       " 'B5',\n",
       " 'C1',\n",
       " 'C2',\n",
       " 'C3',\n",
       " 'C4',\n",
       " 'C5',\n",
       " 'D1',\n",
       " 'D2',\n",
       " 'D3',\n",
       " 'D4',\n",
       " 'D5',\n",
       " 'E1',\n",
       " 'E2',\n",
       " 'E3',\n",
       " 'E4',\n",
       " 'E5',\n",
       " 'F1',\n",
       " 'F2',\n",
       " 'F3',\n",
       " 'F4',\n",
       " 'F5',\n",
       " 'G1',\n",
       " 'G2',\n",
       " 'G3',\n",
       " 'G4',\n",
       " 'G5']"
      ]
     },
     "execution_count": 145,
     "metadata": {},
     "output_type": "execute_result"
    }
   ],
   "source": [
    "sorted(df['sub_grade'].unique())"
   ]
  },
  {
   "cell_type": "markdown",
   "metadata": {},
   "source": [
    "**Creating a countplot per grade, and setting the hue to the loan_status label.**"
   ]
  },
  {
   "cell_type": "code",
   "execution_count": 146,
   "metadata": {},
   "outputs": [
    {
     "data": {
      "text/plain": [
       "<matplotlib.axes._subplots.AxesSubplot at 0x26316204608>"
      ]
     },
     "execution_count": 146,
     "metadata": {},
     "output_type": "execute_result"
    },
    {
     "data": {
      "image/png": "[encoded data removed]",
      "text/plain": [
       "<Figure size 432x288 with 1 Axes>"
      ]
     },
     "metadata": {
      "needs_background": "light"
     },
     "output_type": "display_data"
    }
   ],
   "source": [
    "sns.countplot(x='grade',data=df,hue='loan_status')"
   ]
  },
  {
   "cell_type": "code",
   "execution_count": 147,
   "metadata": {},
   "outputs": [
    {
     "data": {
      "text/plain": [
       "<matplotlib.axes._subplots.AxesSubplot at 0x263161f6388>"
      ]
     },
     "execution_count": 147,
     "metadata": {},
     "output_type": "execute_result"
    },
    {
     "data": {
      "image/png": "[encoded data removed]",
      "text/plain": [
       "<Figure size 576x288 with 1 Axes>"
      ]
     },
     "metadata": {
      "needs_background": "light"
     },
     "output_type": "display_data"
    }
   ],
   "source": [
    "plt.figure(figsize = (8,4))\n",
    "grade_order = sorted(df['grade'].unique())\n",
    "sns.countplot(x='grade',data=df,order=grade_order, hue='loan_status')"
   ]
  },
  {
   "cell_type": "markdown",
   "metadata": {},
   "source": [
    "**Displaying a countplot per subgrade. We may need to resize for this plot and reorder the x axis. Exploring both all loans made per subgrade as well being separated based on the loan_status**"
   ]
  },
  {
   "cell_type": "code",
   "execution_count": 148,
   "metadata": {},
   "outputs": [
    {
     "data": {
      "text/plain": [
       "<matplotlib.axes._subplots.AxesSubplot at 0x26316292908>"
      ]
     },
     "execution_count": 148,
     "metadata": {},
     "output_type": "execute_result"
    },
    {
     "data": {
      "image/png": "[encoded data removed]",
      "text/plain": [
       "<Figure size 864x432 with 1 Axes>"
      ]
     },
     "metadata": {
      "needs_background": "light"
     },
     "output_type": "display_data"
    }
   ],
   "source": [
    "plt.figure(figsize=(12,6))\n",
    "subgrade_order = sorted(df['sub_grade'].unique())\n",
    "sns.countplot(x='sub_grade',data=df,order = subgrade_order,palette='coolwarm' )"
   ]
  },
  {
   "cell_type": "code",
   "execution_count": 149,
   "metadata": {},
   "outputs": [
    {
     "data": {
      "text/plain": [
       "<matplotlib.axes._subplots.AxesSubplot at 0x2631655c9c8>"
      ]
     },
     "execution_count": 149,
     "metadata": {},
     "output_type": "execute_result"
    },
    {
     "data": {
      "image/png": "[encoded data removed]",
      "text/plain": [
       "<Figure size 864x432 with 1 Axes>"
      ]
     },
     "metadata": {
      "needs_background": "light"
     },
     "output_type": "display_data"
    }
   ],
   "source": [
    "plt.figure(figsize=(12,6))\n",
    "subgrade_order = sorted(df['sub_grade'].unique())\n",
    "sns.countplot(x='sub_grade',data=df,order = subgrade_order,palette='coolwarm' ,hue='loan_status')"
   ]
  },
  {
   "cell_type": "markdown",
   "metadata": {},
   "source": [
    "**It looks like F and G subgrades don't get paid back that often. I will isolate those and recreate the countplot just for those subgrades.**"
   ]
  },
  {
   "cell_type": "code",
   "execution_count": 150,
   "metadata": {},
   "outputs": [
    {
     "data": {
      "text/plain": [
       "<matplotlib.axes._subplots.AxesSubplot at 0x2632009e048>"
      ]
     },
     "execution_count": 150,
     "metadata": {},
     "output_type": "execute_result"
    },
    {
     "data": {
      "image/png": "[encoded data removed]",
      "text/plain": [
       "<Figure size 864x360 with 1 Axes>"
      ]
     },
     "metadata": {
      "needs_background": "light"
     },
     "output_type": "display_data"
    }
   ],
   "source": [
    "f_and_g = df[(df['grade']=='G') | (df['grade']=='F')]\n",
    "\n",
    "plt.figure(figsize=(12,5))\n",
    "subgrade_order = sorted(f_and_g['sub_grade'].unique())\n",
    "sns.countplot(x='sub_grade',data=f_and_g,order = subgrade_order,hue='loan_status')\n",
    "# ax.set(xlabel='SubGrades', ylabel='Count of Loans')"
   ]
  },
  {
   "cell_type": "code",
   "execution_count": 151,
   "metadata": {},
   "outputs": [
    {
     "data": {
      "text/plain": [
       "<matplotlib.axes._subplots.AxesSubplot at 0x26305261f08>"
      ]
     },
     "execution_count": 151,
     "metadata": {},
     "output_type": "execute_result"
    },
    {
     "data": {
      "image/png": "[encoded data removed]",
      "text/plain": [
       "<Figure size 432x288 with 1 Axes>"
      ]
     },
     "metadata": {
      "needs_background": "light"
     },
     "output_type": "display_data"
    }
   ],
   "source": [
    "sns.countplot(x='loan_status',data=f_and_g)"
   ]
  },
  {
   "cell_type": "markdown",
   "metadata": {},
   "source": [
    "**Creating a new column called 'load_repaid' which will contain a 1 if the loan status was \"Fully Paid\" and a 0 if it was \"Charged Off\".**"
   ]
  },
  {
   "cell_type": "code",
   "execution_count": 152,
   "metadata": {},
   "outputs": [
    {
     "data": {
      "text/plain": [
       "array(['Fully Paid', 'Charged Off'], dtype=object)"
      ]
     },
     "execution_count": 152,
     "metadata": {},
     "output_type": "execute_result"
    }
   ],
   "source": [
    "df['loan_status'].unique()"
   ]
  },
  {
   "cell_type": "code",
   "execution_count": 153,
   "metadata": {},
   "outputs": [],
   "source": [
    "df['loan_repaid'] = df['loan_status'].map({'Fully Paid':1,'Charged Off':0})"
   ]
  },
  {
   "cell_type": "code",
   "execution_count": 154,
   "metadata": {},
   "outputs": [
    {
     "data": {
      "text/html": [
       "<div>\n",
       "<style scoped>\n",
       "    .dataframe tbody tr th:only-of-type {\n",
       "        vertical-align: middle;\n",
       "    }\n",
       "\n",
       "    .dataframe tbody tr th {\n",
       "        vertical-align: top;\n",
       "    }\n",
       "\n",
       "    .dataframe thead th {\n",
       "        text-align: right;\n",
       "    }\n",
       "</style>\n",
       "<table border=\"1\" class=\"dataframe\">\n",
       "  <thead>\n",
       "    <tr style=\"text-align: right;\">\n",
       "      <th></th>\n",
       "      <th>loan_repaid</th>\n",
       "      <th>loan_status</th>\n",
       "    </tr>\n",
       "  </thead>\n",
       "  <tbody>\n",
       "    <tr>\n",
       "      <th>0</th>\n",
       "      <td>1</td>\n",
       "      <td>Fully Paid</td>\n",
       "    </tr>\n",
       "    <tr>\n",
       "      <th>1</th>\n",
       "      <td>1</td>\n",
       "      <td>Fully Paid</td>\n",
       "    </tr>\n",
       "    <tr>\n",
       "      <th>2</th>\n",
       "      <td>1</td>\n",
       "      <td>Fully Paid</td>\n",
       "    </tr>\n",
       "    <tr>\n",
       "      <th>3</th>\n",
       "      <td>1</td>\n",
       "      <td>Fully Paid</td>\n",
       "    </tr>\n",
       "    <tr>\n",
       "      <th>4</th>\n",
       "      <td>0</td>\n",
       "      <td>Charged Off</td>\n",
       "    </tr>\n",
       "    <tr>\n",
       "      <th>...</th>\n",
       "      <td>...</td>\n",
       "      <td>...</td>\n",
       "    </tr>\n",
       "    <tr>\n",
       "      <th>396025</th>\n",
       "      <td>1</td>\n",
       "      <td>Fully Paid</td>\n",
       "    </tr>\n",
       "    <tr>\n",
       "      <th>396026</th>\n",
       "      <td>1</td>\n",
       "      <td>Fully Paid</td>\n",
       "    </tr>\n",
       "    <tr>\n",
       "      <th>396027</th>\n",
       "      <td>1</td>\n",
       "      <td>Fully Paid</td>\n",
       "    </tr>\n",
       "    <tr>\n",
       "      <th>396028</th>\n",
       "      <td>1</td>\n",
       "      <td>Fully Paid</td>\n",
       "    </tr>\n",
       "    <tr>\n",
       "      <th>396029</th>\n",
       "      <td>1</td>\n",
       "      <td>Fully Paid</td>\n",
       "    </tr>\n",
       "  </tbody>\n",
       "</table>\n",
       "<p>396030 rows × 2 columns</p>\n",
       "</div>"
      ],
      "text/plain": [
       "        loan_repaid  loan_status\n",
       "0                 1   Fully Paid\n",
       "1                 1   Fully Paid\n",
       "2                 1   Fully Paid\n",
       "3                 1   Fully Paid\n",
       "4                 0  Charged Off\n",
       "...             ...          ...\n",
       "396025            1   Fully Paid\n",
       "396026            1   Fully Paid\n",
       "396027            1   Fully Paid\n",
       "396028            1   Fully Paid\n",
       "396029            1   Fully Paid\n",
       "\n",
       "[396030 rows x 2 columns]"
      ]
     },
     "execution_count": 154,
     "metadata": {},
     "output_type": "execute_result"
    }
   ],
   "source": [
    "df[['loan_repaid','loan_status']]"
   ]
  },
  {
   "cell_type": "markdown",
   "metadata": {},
   "source": [
    "**Creating a bar plot showing the correlation of the numeric features to the new loan_repaid column.**"
   ]
  },
  {
   "cell_type": "code",
   "execution_count": 155,
   "metadata": {},
   "outputs": [
    {
     "data": {
      "text/plain": [
       "<matplotlib.axes._subplots.AxesSubplot at 0x263003ff748>"
      ]
     },
     "execution_count": 155,
     "metadata": {},
     "output_type": "execute_result"
    },
    {
     "data": {
      "image/png": "[encoded data removed]",
      "text/plain": [
       "<Figure size 864x576 with 1 Axes>"
      ]
     },
     "metadata": {
      "needs_background": "light"
     },
     "output_type": "display_data"
    }
   ],
   "source": [
    "plt.figure(figsize=(12,8))\n",
    "df.corr()['loan_repaid'].sort_values().drop('loan_repaid').plot(kind='bar')"
   ]
  },
  {
   "cell_type": "markdown",
   "metadata": {},
   "source": [
    "---\n",
    "---\n",
    "# Section 2: Data PreProcessing\n",
    "\n",
    "**Section Goals: Removing or filling any missing data. Remove unnecessary or repetitive features. Convert categorical string features to dummy variables.**\n",
    "\n"
   ]
  },
  {
   "cell_type": "code",
   "execution_count": 156,
   "metadata": {
    "scrolled": true
   },
   "outputs": [
    {
     "data": {
      "text/html": [
       "<div>\n",
       "<style scoped>\n",
       "    .dataframe tbody tr th:only-of-type {\n",
       "        vertical-align: middle;\n",
       "    }\n",
       "\n",
       "    .dataframe tbody tr th {\n",
       "        vertical-align: top;\n",
       "    }\n",
       "\n",
       "    .dataframe thead th {\n",
       "        text-align: right;\n",
       "    }\n",
       "</style>\n",
       "<table border=\"1\" class=\"dataframe\">\n",
       "  <thead>\n",
       "    <tr style=\"text-align: right;\">\n",
       "      <th></th>\n",
       "      <th>loan_amnt</th>\n",
       "      <th>term</th>\n",
       "      <th>int_rate</th>\n",
       "      <th>installment</th>\n",
       "      <th>grade</th>\n",
       "      <th>sub_grade</th>\n",
       "      <th>emp_title</th>\n",
       "      <th>emp_length</th>\n",
       "      <th>home_ownership</th>\n",
       "      <th>annual_inc</th>\n",
       "      <th>...</th>\n",
       "      <th>pub_rec</th>\n",
       "      <th>revol_bal</th>\n",
       "      <th>revol_util</th>\n",
       "      <th>total_acc</th>\n",
       "      <th>initial_list_status</th>\n",
       "      <th>application_type</th>\n",
       "      <th>mort_acc</th>\n",
       "      <th>pub_rec_bankruptcies</th>\n",
       "      <th>address</th>\n",
       "      <th>loan_repaid</th>\n",
       "    </tr>\n",
       "  </thead>\n",
       "  <tbody>\n",
       "    <tr>\n",
       "      <th>0</th>\n",
       "      <td>10000.0</td>\n",
       "      <td>36 months</td>\n",
       "      <td>11.44</td>\n",
       "      <td>329.48</td>\n",
       "      <td>B</td>\n",
       "      <td>B4</td>\n",
       "      <td>Marketing</td>\n",
       "      <td>10+ years</td>\n",
       "      <td>RENT</td>\n",
       "      <td>117000.0</td>\n",
       "      <td>...</td>\n",
       "      <td>0.0</td>\n",
       "      <td>36369.0</td>\n",
       "      <td>41.8</td>\n",
       "      <td>25.0</td>\n",
       "      <td>w</td>\n",
       "      <td>INDIVIDUAL</td>\n",
       "      <td>0.0</td>\n",
       "      <td>0.0</td>\n",
       "      <td>0174 Michelle Gateway\\nMendozaberg, OK 22690</td>\n",
       "      <td>1</td>\n",
       "    </tr>\n",
       "    <tr>\n",
       "      <th>1</th>\n",
       "      <td>8000.0</td>\n",
       "      <td>36 months</td>\n",
       "      <td>11.99</td>\n",
       "      <td>265.68</td>\n",
       "      <td>B</td>\n",
       "      <td>B5</td>\n",
       "      <td>Credit analyst</td>\n",
       "      <td>4 years</td>\n",
       "      <td>MORTGAGE</td>\n",
       "      <td>65000.0</td>\n",
       "      <td>...</td>\n",
       "      <td>0.0</td>\n",
       "      <td>20131.0</td>\n",
       "      <td>53.3</td>\n",
       "      <td>27.0</td>\n",
       "      <td>f</td>\n",
       "      <td>INDIVIDUAL</td>\n",
       "      <td>3.0</td>\n",
       "      <td>0.0</td>\n",
       "      <td>1076 Carney Fort Apt. 347\\nLoganmouth, SD 05113</td>\n",
       "      <td>1</td>\n",
       "    </tr>\n",
       "    <tr>\n",
       "      <th>2</th>\n",
       "      <td>15600.0</td>\n",
       "      <td>36 months</td>\n",
       "      <td>10.49</td>\n",
       "      <td>506.97</td>\n",
       "      <td>B</td>\n",
       "      <td>B3</td>\n",
       "      <td>Statistician</td>\n",
       "      <td>&lt; 1 year</td>\n",
       "      <td>RENT</td>\n",
       "      <td>43057.0</td>\n",
       "      <td>...</td>\n",
       "      <td>0.0</td>\n",
       "      <td>11987.0</td>\n",
       "      <td>92.2</td>\n",
       "      <td>26.0</td>\n",
       "      <td>f</td>\n",
       "      <td>INDIVIDUAL</td>\n",
       "      <td>0.0</td>\n",
       "      <td>0.0</td>\n",
       "      <td>87025 Mark Dale Apt. 269\\nNew Sabrina, WV 05113</td>\n",
       "      <td>1</td>\n",
       "    </tr>\n",
       "    <tr>\n",
       "      <th>3</th>\n",
       "      <td>7200.0</td>\n",
       "      <td>36 months</td>\n",
       "      <td>6.49</td>\n",
       "      <td>220.65</td>\n",
       "      <td>A</td>\n",
       "      <td>A2</td>\n",
       "      <td>Client Advocate</td>\n",
       "      <td>6 years</td>\n",
       "      <td>RENT</td>\n",
       "      <td>54000.0</td>\n",
       "      <td>...</td>\n",
       "      <td>0.0</td>\n",
       "      <td>5472.0</td>\n",
       "      <td>21.5</td>\n",
       "      <td>13.0</td>\n",
       "      <td>f</td>\n",
       "      <td>INDIVIDUAL</td>\n",
       "      <td>0.0</td>\n",
       "      <td>0.0</td>\n",
       "      <td>823 Reid Ford\\nDelacruzside, MA 00813</td>\n",
       "      <td>1</td>\n",
       "    </tr>\n",
       "    <tr>\n",
       "      <th>4</th>\n",
       "      <td>24375.0</td>\n",
       "      <td>60 months</td>\n",
       "      <td>17.27</td>\n",
       "      <td>609.33</td>\n",
       "      <td>C</td>\n",
       "      <td>C5</td>\n",
       "      <td>Destiny Management Inc.</td>\n",
       "      <td>9 years</td>\n",
       "      <td>MORTGAGE</td>\n",
       "      <td>55000.0</td>\n",
       "      <td>...</td>\n",
       "      <td>0.0</td>\n",
       "      <td>24584.0</td>\n",
       "      <td>69.8</td>\n",
       "      <td>43.0</td>\n",
       "      <td>f</td>\n",
       "      <td>INDIVIDUAL</td>\n",
       "      <td>1.0</td>\n",
       "      <td>0.0</td>\n",
       "      <td>679 Luna Roads\\nGreggshire, VA 11650</td>\n",
       "      <td>0</td>\n",
       "    </tr>\n",
       "  </tbody>\n",
       "</table>\n",
       "<p>5 rows × 28 columns</p>\n",
       "</div>"
      ],
      "text/plain": [
       "   loan_amnt        term  int_rate  installment grade sub_grade  \\\n",
       "0    10000.0   36 months     11.44       329.48     B        B4   \n",
       "1     8000.0   36 months     11.99       265.68     B        B5   \n",
       "2    15600.0   36 months     10.49       506.97     B        B3   \n",
       "3     7200.0   36 months      6.49       220.65     A        A2   \n",
       "4    24375.0   60 months     17.27       609.33     C        C5   \n",
       "\n",
       "                 emp_title emp_length home_ownership  annual_inc  ... pub_rec  \\\n",
       "0                Marketing  10+ years           RENT    117000.0  ...     0.0   \n",
       "1          Credit analyst     4 years       MORTGAGE     65000.0  ...     0.0   \n",
       "2             Statistician   < 1 year           RENT     43057.0  ...     0.0   \n",
       "3          Client Advocate    6 years           RENT     54000.0  ...     0.0   \n",
       "4  Destiny Management Inc.    9 years       MORTGAGE     55000.0  ...     0.0   \n",
       "\n",
       "  revol_bal revol_util total_acc initial_list_status  application_type  \\\n",
       "0   36369.0       41.8      25.0                   w        INDIVIDUAL   \n",
       "1   20131.0       53.3      27.0                   f        INDIVIDUAL   \n",
       "2   11987.0       92.2      26.0                   f        INDIVIDUAL   \n",
       "3    5472.0       21.5      13.0                   f        INDIVIDUAL   \n",
       "4   24584.0       69.8      43.0                   f        INDIVIDUAL   \n",
       "\n",
       "  mort_acc  pub_rec_bankruptcies  \\\n",
       "0      0.0                   0.0   \n",
       "1      3.0                   0.0   \n",
       "2      0.0                   0.0   \n",
       "3      0.0                   0.0   \n",
       "4      1.0                   0.0   \n",
       "\n",
       "                                           address  loan_repaid  \n",
       "0     0174 Michelle Gateway\\nMendozaberg, OK 22690            1  \n",
       "1  1076 Carney Fort Apt. 347\\nLoganmouth, SD 05113            1  \n",
       "2  87025 Mark Dale Apt. 269\\nNew Sabrina, WV 05113            1  \n",
       "3            823 Reid Ford\\nDelacruzside, MA 00813            1  \n",
       "4             679 Luna Roads\\nGreggshire, VA 11650            0  \n",
       "\n",
       "[5 rows x 28 columns]"
      ]
     },
     "execution_count": 156,
     "metadata": {},
     "output_type": "execute_result"
    }
   ],
   "source": [
    "df.head()"
   ]
  },
  {
   "cell_type": "markdown",
   "metadata": {},
   "source": [
    "# Missing Data\n",
    "\n",
    "**Exploring these missing data columns. I use a variety of factors to decide whether or not they would be useful, to see if I should keep, discard, or fill in the missing data.**"
   ]
  },
  {
   "cell_type": "markdown",
   "metadata": {},
   "source": [
    "**The length of the dataframe**"
   ]
  },
  {
   "cell_type": "code",
   "execution_count": 157,
   "metadata": {},
   "outputs": [
    {
     "data": {
      "text/plain": [
       "396030"
      ]
     },
     "execution_count": 157,
     "metadata": {},
     "output_type": "execute_result"
    }
   ],
   "source": [
    "len(df)"
   ]
  },
  {
   "cell_type": "markdown",
   "metadata": {},
   "source": [
    "**Creating a Series that displays the total count of missing values per column.**"
   ]
  },
  {
   "cell_type": "code",
   "execution_count": 158,
   "metadata": {},
   "outputs": [
    {
     "data": {
      "text/plain": [
       "loan_amnt                   0\n",
       "term                        0\n",
       "int_rate                    0\n",
       "installment                 0\n",
       "grade                       0\n",
       "sub_grade                   0\n",
       "emp_title               22927\n",
       "emp_length              18301\n",
       "home_ownership              0\n",
       "annual_inc                  0\n",
       "verification_status         0\n",
       "issue_d                     0\n",
       "loan_status                 0\n",
       "purpose                     0\n",
       "title                    1755\n",
       "dti                         0\n",
       "earliest_cr_line            0\n",
       "open_acc                    0\n",
       "pub_rec                     0\n",
       "revol_bal                   0\n",
       "revol_util                276\n",
       "total_acc                   0\n",
       "initial_list_status         0\n",
       "application_type            0\n",
       "mort_acc                37795\n",
       "pub_rec_bankruptcies      535\n",
       "address                     0\n",
       "loan_repaid                 0\n",
       "dtype: int64"
      ]
     },
     "execution_count": 158,
     "metadata": {},
     "output_type": "execute_result"
    }
   ],
   "source": [
    "df.isnull().sum()"
   ]
  },
  {
   "cell_type": "markdown",
   "metadata": {},
   "source": [
    "**Converting this Series to be in term of percentage of the total DataFrame**"
   ]
  },
  {
   "cell_type": "code",
   "execution_count": 159,
   "metadata": {
    "scrolled": true
   },
   "outputs": [
    {
     "data": {
      "text/plain": [
       "loan_amnt               0.000000\n",
       "term                    0.000000\n",
       "int_rate                0.000000\n",
       "installment             0.000000\n",
       "grade                   0.000000\n",
       "sub_grade               0.000000\n",
       "emp_title               5.789208\n",
       "emp_length              4.621115\n",
       "home_ownership          0.000000\n",
       "annual_inc              0.000000\n",
       "verification_status     0.000000\n",
       "issue_d                 0.000000\n",
       "loan_status             0.000000\n",
       "purpose                 0.000000\n",
       "title                   0.443148\n",
       "dti                     0.000000\n",
       "earliest_cr_line        0.000000\n",
       "open_acc                0.000000\n",
       "pub_rec                 0.000000\n",
       "revol_bal               0.000000\n",
       "revol_util              0.069692\n",
       "total_acc               0.000000\n",
       "initial_list_status     0.000000\n",
       "application_type        0.000000\n",
       "mort_acc                9.543469\n",
       "pub_rec_bankruptcies    0.135091\n",
       "address                 0.000000\n",
       "loan_repaid             0.000000\n",
       "dtype: float64"
      ]
     },
     "execution_count": 159,
     "metadata": {},
     "output_type": "execute_result"
    }
   ],
   "source": [
    "100 * df.isnull().sum()/len(df)"
   ]
  },
  {
   "cell_type": "markdown",
   "metadata": {},
   "source": [
    "**Examining emp_title and emp_length to see whether it will be okay to drop them. Printing out their feature information using the feat_info() function from the top of this notebook.**"
   ]
  },
  {
   "cell_type": "code",
   "execution_count": 160,
   "metadata": {},
   "outputs": [
    {
     "name": "stdout",
     "output_type": "stream",
     "text": [
      "The job title supplied by the Borrower when applying for the loan.*\n",
      "\n",
      "\n",
      "Employment length in years. Possible values are between 0 and 10 where 0 means less than one year and 10 means ten or more years. \n"
     ]
    }
   ],
   "source": [
    "feat_info('emp_title')\n",
    "print('\\n')\n",
    "feat_info('emp_length')"
   ]
  },
  {
   "cell_type": "markdown",
   "metadata": {},
   "source": [
    "**Number of employment job titles**"
   ]
  },
  {
   "cell_type": "code",
   "execution_count": 161,
   "metadata": {},
   "outputs": [
    {
     "data": {
      "text/plain": [
       "173105"
      ]
     },
     "execution_count": 161,
     "metadata": {},
     "output_type": "execute_result"
    }
   ],
   "source": [
    "df['emp_title'].nunique()"
   ]
  },
  {
   "cell_type": "code",
   "execution_count": 162,
   "metadata": {},
   "outputs": [
    {
     "data": {
      "text/plain": [
       "Teacher                                4389\n",
       "Manager                                4250\n",
       "Registered Nurse                       1856\n",
       "RN                                     1846\n",
       "Supervisor                             1830\n",
       "                                       ... \n",
       "Internal Medicine Resident 3rd Year       1\n",
       "VP West Coast Operations                  1\n",
       "Reitter Wall Systems                      1\n",
       "CMC Cable Solution                        1\n",
       "Michael Stars                             1\n",
       "Name: emp_title, Length: 173105, dtype: int64"
      ]
     },
     "execution_count": 162,
     "metadata": {},
     "output_type": "execute_result"
    }
   ],
   "source": [
    "df['emp_title'].value_counts()"
   ]
  },
  {
   "cell_type": "markdown",
   "metadata": {},
   "source": [
    "**There are too many unique job titles to try to convert this to a dummy variable feature. I will remove that emp_title column.**"
   ]
  },
  {
   "cell_type": "code",
   "execution_count": 163,
   "metadata": {},
   "outputs": [],
   "source": [
    "df = df.drop('emp_title',axis=1)"
   ]
  },
  {
   "cell_type": "markdown",
   "metadata": {},
   "source": [
    "**Creating a countplot of the emp_length feature column. Sorting the order of the values.**"
   ]
  },
  {
   "cell_type": "code",
   "execution_count": 164,
   "metadata": {},
   "outputs": [
    {
     "data": {
      "text/plain": [
       "['1 year',\n",
       " '10+ years',\n",
       " '2 years',\n",
       " '3 years',\n",
       " '4 years',\n",
       " '5 years',\n",
       " '6 years',\n",
       " '7 years',\n",
       " '8 years',\n",
       " '9 years',\n",
       " '< 1 year']"
      ]
     },
     "execution_count": 164,
     "metadata": {},
     "output_type": "execute_result"
    }
   ],
   "source": [
    "sorted(df['emp_length'].dropna().unique())"
   ]
  },
  {
   "cell_type": "code",
   "execution_count": 165,
   "metadata": {},
   "outputs": [],
   "source": [
    "emp_length_order = [ '< 1 year',\n",
    "                      '1 year',\n",
    "                     '2 years',\n",
    "                     '3 years',\n",
    "                     '4 years',\n",
    "                     '5 years',\n",
    "                     '6 years',\n",
    "                     '7 years',\n",
    "                     '8 years',\n",
    "                     '9 years',\n",
    "                     '10+ years']"
   ]
  },
  {
   "cell_type": "code",
   "execution_count": 166,
   "metadata": {},
   "outputs": [
    {
     "data": {
      "text/plain": [
       "<matplotlib.axes._subplots.AxesSubplot at 0x26305ed7f48>"
      ]
     },
     "execution_count": 166,
     "metadata": {},
     "output_type": "execute_result"
    },
    {
     "data": {
      "image/png": "[encoded data removed]",
      "text/plain": [
       "<Figure size 864x360 with 1 Axes>"
      ]
     },
     "metadata": {
      "needs_background": "light"
     },
     "output_type": "display_data"
    }
   ],
   "source": [
    "plt.figure(figsize=(12,5))\n",
    "\n",
    "sns.countplot(x='emp_length',data=df,order=emp_length_order)"
   ]
  },
  {
   "cell_type": "markdown",
   "metadata": {},
   "source": [
    "**Plotting out the countplot with a hue separating Fully Paid vs Charged Off**"
   ]
  },
  {
   "cell_type": "code",
   "execution_count": 167,
   "metadata": {},
   "outputs": [
    {
     "data": {
      "text/plain": [
       "<matplotlib.axes._subplots.AxesSubplot at 0x2630535f408>"
      ]
     },
     "execution_count": 167,
     "metadata": {},
     "output_type": "execute_result"
    },
    {
     "data": {
      "image/png": "[encoded data removed]",
      "text/plain": [
       "<Figure size 864x360 with 1 Axes>"
      ]
     },
     "metadata": {
      "needs_background": "light"
     },
     "output_type": "display_data"
    }
   ],
   "source": [
    "plt.figure(figsize=(12,5))\n",
    "sns.countplot(x='emp_length',data=df,order=emp_length_order,hue='loan_status')"
   ]
  },
  {
   "cell_type": "markdown",
   "metadata": {},
   "source": [
    "**This still doesn't really inform me if there is a strong relationship between employment length and being charged off, what I want is the percentage of charge offs per category. Essentially informing me what percent of people per employment category didn't pay back their loan. There are a multitude of ways to create this Series.**"
   ]
  },
  {
   "cell_type": "code",
   "execution_count": 168,
   "metadata": {},
   "outputs": [],
   "source": [
    "emp_co = df[df['loan_status']==\"Charged Off\"].groupby(\"emp_length\").count()['loan_status']\n",
    "emp_fp = df[df['loan_status']==\"Fully Paid\"].groupby(\"emp_length\").count()['loan_status']"
   ]
  },
  {
   "cell_type": "code",
   "execution_count": 169,
   "metadata": {},
   "outputs": [],
   "source": [
    "# emp_len = emp_co/emp_fp\n",
    "emp_len_per = emp_co/(emp_co+emp_fp)"
   ]
  },
  {
   "cell_type": "code",
   "execution_count": 170,
   "metadata": {},
   "outputs": [
    {
     "data": {
      "text/plain": [
       "emp_length\n",
       "1 year       0.199135\n",
       "10+ years    0.184186\n",
       "2 years      0.193262\n",
       "3 years      0.195231\n",
       "4 years      0.192385\n",
       "5 years      0.192187\n",
       "6 years      0.189194\n",
       "7 years      0.194774\n",
       "8 years      0.199760\n",
       "9 years      0.200470\n",
       "< 1 year     0.206872\n",
       "Name: loan_status, dtype: float64"
      ]
     },
     "execution_count": 170,
     "metadata": {},
     "output_type": "execute_result"
    }
   ],
   "source": [
    "emp_len_per"
   ]
  },
  {
   "cell_type": "code",
   "execution_count": 171,
   "metadata": {},
   "outputs": [
    {
     "data": {
      "text/plain": [
       "<matplotlib.axes._subplots.AxesSubplot at 0x26305fd79c8>"
      ]
     },
     "execution_count": 171,
     "metadata": {},
     "output_type": "execute_result"
    },
    {
     "data": {
      "image/png": "[encoded data removed]",
      "text/plain": [
       "<Figure size 432x288 with 1 Axes>"
      ]
     },
     "metadata": {
      "needs_background": "light"
     },
     "output_type": "display_data"
    }
   ],
   "source": [
    "emp_len_per.plot(kind='bar')"
   ]
  },
  {
   "cell_type": "markdown",
   "metadata": {},
   "source": [
    "**Charge off rates are extremely similar across all employment lengths. I will go ahead and drop the emp_length column.**"
   ]
  },
  {
   "cell_type": "code",
   "execution_count": 172,
   "metadata": {},
   "outputs": [],
   "source": [
    "df = df.drop('emp_length',axis=1)"
   ]
  },
  {
   "cell_type": "markdown",
   "metadata": {},
   "source": [
    "**Seeing what feature columns still have missing data.**"
   ]
  },
  {
   "cell_type": "code",
   "execution_count": 173,
   "metadata": {},
   "outputs": [
    {
     "data": {
      "text/plain": [
       "loan_amnt                   0\n",
       "term                        0\n",
       "int_rate                    0\n",
       "installment                 0\n",
       "grade                       0\n",
       "sub_grade                   0\n",
       "home_ownership              0\n",
       "annual_inc                  0\n",
       "verification_status         0\n",
       "issue_d                     0\n",
       "loan_status                 0\n",
       "purpose                     0\n",
       "title                    1755\n",
       "dti                         0\n",
       "earliest_cr_line            0\n",
       "open_acc                    0\n",
       "pub_rec                     0\n",
       "revol_bal                   0\n",
       "revol_util                276\n",
       "total_acc                   0\n",
       "initial_list_status         0\n",
       "application_type            0\n",
       "mort_acc                37795\n",
       "pub_rec_bankruptcies      535\n",
       "address                     0\n",
       "loan_repaid                 0\n",
       "dtype: int64"
      ]
     },
     "execution_count": 173,
     "metadata": {},
     "output_type": "execute_result"
    }
   ],
   "source": [
    "df.isnull().sum()"
   ]
  },
  {
   "cell_type": "markdown",
   "metadata": {},
   "source": [
    "**Reviewing the title column vs the purpose column. This is repeated information.**"
   ]
  },
  {
   "cell_type": "code",
   "execution_count": 174,
   "metadata": {},
   "outputs": [
    {
     "data": {
      "text/plain": [
       "0              vacation\n",
       "1    debt_consolidation\n",
       "2           credit_card\n",
       "3           credit_card\n",
       "4           credit_card\n",
       "5    debt_consolidation\n",
       "6      home_improvement\n",
       "7           credit_card\n",
       "8    debt_consolidation\n",
       "9    debt_consolidation\n",
       "Name: purpose, dtype: object"
      ]
     },
     "execution_count": 174,
     "metadata": {},
     "output_type": "execute_result"
    }
   ],
   "source": [
    "df['purpose'].head(10)"
   ]
  },
  {
   "cell_type": "code",
   "execution_count": 175,
   "metadata": {},
   "outputs": [
    {
     "data": {
      "text/plain": [
       "0                   Vacation\n",
       "1         Debt consolidation\n",
       "2    Credit card refinancing\n",
       "3    Credit card refinancing\n",
       "4      Credit Card Refinance\n",
       "5         Debt consolidation\n",
       "6           Home improvement\n",
       "7       No More Credit Cards\n",
       "8         Debt consolidation\n",
       "9         Debt Consolidation\n",
       "Name: title, dtype: object"
      ]
     },
     "execution_count": 175,
     "metadata": {},
     "output_type": "execute_result"
    }
   ],
   "source": [
    "df['title'].head(10)"
   ]
  },
  {
   "cell_type": "markdown",
   "metadata": {},
   "source": [
    "**The title column is simply a string subcategory/description of the purpose column. I will drop the title column.**"
   ]
  },
  {
   "cell_type": "code",
   "execution_count": 176,
   "metadata": {},
   "outputs": [],
   "source": [
    "df = df.drop('title',axis=1)"
   ]
  },
  {
   "cell_type": "markdown",
   "metadata": {},
   "source": [
    "**After I dropped three categorical features which have missing values, there were only three numerical features left which have missing values are mort_acc, pub_rec_bankruptcies and revol_util. There are many different approaches to deal with missing values. We can delete the entries with missing values or we can fill in the missing values with calculated mean value using another column which correlates with the column with missing values or we can use built in imputation algorithm in Python such as SimpleImputer, IterativeImputer and so on. We can drop the variable if it has more than 50% missing values because imputation would not be reliable in those cases.**"
   ]
  },
  {
   "cell_type": "code",
   "execution_count": 177,
   "metadata": {},
   "outputs": [
    {
     "data": {
      "text/plain": [
       "Index(['term', 'grade', 'sub_grade', 'home_ownership', 'verification_status',\n",
       "       'issue_d', 'loan_status', 'purpose', 'earliest_cr_line',\n",
       "       'initial_list_status', 'application_type', 'address'],\n",
       "      dtype='object')"
      ]
     },
     "execution_count": 177,
     "metadata": {},
     "output_type": "execute_result"
    }
   ],
   "source": [
    "df.select_dtypes(['object']).columns"
   ]
  },
  {
   "cell_type": "code",
   "execution_count": 178,
   "metadata": {},
   "outputs": [],
   "source": [
    "obj_cols = ['term', 'grade', 'sub_grade', 'emp_title', 'emp_length',\n",
    "       'home_ownership', 'verification_status', 'issue_d', 'loan_status',\n",
    "       'purpose', 'title', 'earliest_cr_line', 'initial_list_status',\n",
    "       'application_type', 'address']"
   ]
  },
  {
   "cell_type": "markdown",
   "metadata": {},
   "source": [
    "**A better strategy is to impute the missing values, to infer them from the known part of the data. I used the IterativeImputer which models each feature with missing values as a function of other features, and uses that estimate for imputation. In the simplest form, we can say IterativeImputer examine other features which don’t have missing values, and then predict the missing values using other features’ information.**"
   ]
  },
  {
   "cell_type": "code",
   "execution_count": 179,
   "metadata": {},
   "outputs": [],
   "source": [
    "from sklearn.experimental import enable_iterative_imputer\n",
    "from sklearn.impute import IterativeImputer"
   ]
  },
  {
   "cell_type": "code",
   "execution_count": 180,
   "metadata": {},
   "outputs": [],
   "source": [
    "imp = IterativeImputer(max_iter=50, random_state=0)\n",
    "imp.fit(df.loc[:, df.columns.difference(obj_cols)])\n",
    "IterativeImputer(random_state=0)\n",
    "df.loc[:, df.columns.difference(obj_cols)] = imp.transform(df.loc[:, df.columns.difference(obj_cols)])"
   ]
  },
  {
   "cell_type": "code",
   "execution_count": 181,
   "metadata": {
    "scrolled": true
   },
   "outputs": [
    {
     "data": {
      "text/plain": [
       "loan_amnt               0\n",
       "term                    0\n",
       "int_rate                0\n",
       "installment             0\n",
       "grade                   0\n",
       "sub_grade               0\n",
       "home_ownership          0\n",
       "annual_inc              0\n",
       "verification_status     0\n",
       "issue_d                 0\n",
       "loan_status             0\n",
       "purpose                 0\n",
       "dti                     0\n",
       "earliest_cr_line        0\n",
       "open_acc                0\n",
       "pub_rec                 0\n",
       "revol_bal               0\n",
       "revol_util              0\n",
       "total_acc               0\n",
       "initial_list_status     0\n",
       "application_type        0\n",
       "mort_acc                0\n",
       "pub_rec_bankruptcies    0\n",
       "address                 0\n",
       "loan_repaid             0\n",
       "dtype: int64"
      ]
     },
     "execution_count": 181,
     "metadata": {},
     "output_type": "execute_result"
    }
   ],
   "source": [
    "df.isnull().sum()"
   ]
  },
  {
   "cell_type": "markdown",
   "metadata": {},
   "source": [
    "## Categorical Variables and Dummy Variables\n",
    "\n",
    "**I'm done working with the missing data! Now I just need to deal with the string values due to the categorical columns.**\n"
   ]
  },
  {
   "cell_type": "code",
   "execution_count": 182,
   "metadata": {},
   "outputs": [
    {
     "data": {
      "text/plain": [
       "Index(['term', 'grade', 'sub_grade', 'home_ownership', 'verification_status',\n",
       "       'issue_d', 'loan_status', 'purpose', 'earliest_cr_line',\n",
       "       'initial_list_status', 'application_type', 'address'],\n",
       "      dtype='object')"
      ]
     },
     "execution_count": 182,
     "metadata": {},
     "output_type": "execute_result"
    }
   ],
   "source": [
    "df.select_dtypes(['object']).columns"
   ]
  },
  {
   "cell_type": "markdown",
   "metadata": {},
   "source": [
    "### term feature\n",
    "\n",
    "**Converting the term feature into either a 36 or 60 integer numeric data type using .apply() or .map().**"
   ]
  },
  {
   "cell_type": "code",
   "execution_count": 183,
   "metadata": {},
   "outputs": [
    {
     "data": {
      "text/plain": [
       " 36 months    302005\n",
       " 60 months     94025\n",
       "Name: term, dtype: int64"
      ]
     },
     "execution_count": 183,
     "metadata": {},
     "output_type": "execute_result"
    }
   ],
   "source": [
    "df['term'].value_counts()"
   ]
  },
  {
   "cell_type": "code",
   "execution_count": 184,
   "metadata": {},
   "outputs": [],
   "source": [
    "## using split() then loop\n",
    "# a = df['term'].str.split(' ')\n",
    "# x = []\n",
    "# for i in a:\n",
    "#     x.append(int(i[1]))\n",
    "# df['term'] = x"
   ]
  },
  {
   "cell_type": "code",
   "execution_count": 185,
   "metadata": {},
   "outputs": [],
   "source": [
    "# Or just use .map()\n",
    "df['term'] = df['term'].apply(lambda term: int(term[:3]))"
   ]
  },
  {
   "cell_type": "code",
   "execution_count": 186,
   "metadata": {},
   "outputs": [
    {
     "data": {
      "text/plain": [
       "36    302005\n",
       "60     94025\n",
       "Name: term, dtype: int64"
      ]
     },
     "execution_count": 186,
     "metadata": {},
     "output_type": "execute_result"
    }
   ],
   "source": [
    "df['term'].value_counts()"
   ]
  },
  {
   "cell_type": "markdown",
   "metadata": {},
   "source": [
    "### grade feature\n",
    "\n",
    "**I already know grade is part of sub_grade, so just drop the grade feature.**"
   ]
  },
  {
   "cell_type": "code",
   "execution_count": 187,
   "metadata": {},
   "outputs": [],
   "source": [
    "df = df.drop('grade',axis=1)"
   ]
  },
  {
   "cell_type": "markdown",
   "metadata": {},
   "source": [
    "**Converting the subgrade into dummy variables. Then concatenate these new columns to the original dataframe. I drop the original subgrade column and to add drop_first=True to your get_dummies call.**"
   ]
  },
  {
   "cell_type": "code",
   "execution_count": 188,
   "metadata": {},
   "outputs": [],
   "source": [
    "subgrade_dummies = pd.get_dummies(df['sub_grade'],drop_first=True)"
   ]
  },
  {
   "cell_type": "code",
   "execution_count": 189,
   "metadata": {},
   "outputs": [],
   "source": [
    "df = pd.concat([df.drop('sub_grade',axis=1),subgrade_dummies],axis=1)"
   ]
  },
  {
   "cell_type": "code",
   "execution_count": 190,
   "metadata": {},
   "outputs": [
    {
     "data": {
      "text/plain": [
       "Index(['loan_amnt', 'term', 'int_rate', 'installment', 'home_ownership',\n",
       "       'annual_inc', 'verification_status', 'issue_d', 'loan_status',\n",
       "       'purpose', 'dti', 'earliest_cr_line', 'open_acc', 'pub_rec',\n",
       "       'revol_bal', 'revol_util', 'total_acc', 'initial_list_status',\n",
       "       'application_type', 'mort_acc', 'pub_rec_bankruptcies', 'address',\n",
       "       'loan_repaid', 'A2', 'A3', 'A4', 'A5', 'B1', 'B2', 'B3', 'B4', 'B5',\n",
       "       'C1', 'C2', 'C3', 'C4', 'C5', 'D1', 'D2', 'D3', 'D4', 'D5', 'E1', 'E2',\n",
       "       'E3', 'E4', 'E5', 'F1', 'F2', 'F3', 'F4', 'F5', 'G1', 'G2', 'G3', 'G4',\n",
       "       'G5'],\n",
       "      dtype='object')"
      ]
     },
     "execution_count": 190,
     "metadata": {},
     "output_type": "execute_result"
    }
   ],
   "source": [
    "df.columns"
   ]
  },
  {
   "cell_type": "code",
   "execution_count": 191,
   "metadata": {},
   "outputs": [
    {
     "data": {
      "text/plain": [
       "Index(['home_ownership', 'verification_status', 'issue_d', 'loan_status',\n",
       "       'purpose', 'earliest_cr_line', 'initial_list_status',\n",
       "       'application_type', 'address'],\n",
       "      dtype='object')"
      ]
     },
     "execution_count": 191,
     "metadata": {},
     "output_type": "execute_result"
    }
   ],
   "source": [
    "df.select_dtypes(['object']).columns"
   ]
  },
  {
   "cell_type": "markdown",
   "metadata": {},
   "source": [
    "### verification_status, application_type,initial_list_status,purpose \n",
    "**Converting these columns: ['verification_status', 'application_type','initial_list_status','purpose'] into dummy variables and concatenate them with the original dataframe. I set drop_first=True and to drop the original columns.**"
   ]
  },
  {
   "cell_type": "code",
   "execution_count": 192,
   "metadata": {},
   "outputs": [],
   "source": [
    "dummies = pd.get_dummies(df[['verification_status', 'application_type','initial_list_status','purpose' ]],drop_first=True)\n",
    "df = pd.concat([df.drop(['verification_status', 'application_type','initial_list_status','purpose'],axis=1),dummies],axis=1)"
   ]
  },
  {
   "cell_type": "markdown",
   "metadata": {},
   "source": [
    "### home_ownership\n",
    "**Reviewing the value_counts for the home_ownership column.**"
   ]
  },
  {
   "cell_type": "code",
   "execution_count": 193,
   "metadata": {},
   "outputs": [
    {
     "data": {
      "text/plain": [
       "MORTGAGE    198348\n",
       "RENT        159790\n",
       "OWN          37746\n",
       "OTHER          112\n",
       "NONE            31\n",
       "ANY              3\n",
       "Name: home_ownership, dtype: int64"
      ]
     },
     "execution_count": 193,
     "metadata": {},
     "output_type": "execute_result"
    }
   ],
   "source": [
    "df['home_ownership'].value_counts()"
   ]
  },
  {
   "cell_type": "markdown",
   "metadata": {},
   "source": [
    "**Converting these to dummy variables, but NONE and ANY with OTHER, so that I end up with just 4 categories, MORTGAGE, RENT, OWN, OTHER. Then concatenate them with the original dataframe. I set drop_first=True and to drop the original columns.**"
   ]
  },
  {
   "cell_type": "code",
   "execution_count": 194,
   "metadata": {},
   "outputs": [],
   "source": [
    "df['home_ownership'] = df['home_ownership'].replace(['NONE', 'ANY'], 'OTHER')\n",
    "\n",
    "dummies = pd.get_dummies(df['home_ownership'],drop_first=True)\n",
    "df = df.drop('home_ownership',axis=1)\n",
    "df = pd.concat([df,dummies],axis=1)"
   ]
  },
  {
   "cell_type": "markdown",
   "metadata": {},
   "source": [
    "### address\n",
    "**Feature engineer a zip code column from the address in the data set. I create a column called 'zip_code' that extracts the zip code from the address column.**"
   ]
  },
  {
   "cell_type": "code",
   "execution_count": 195,
   "metadata": {},
   "outputs": [],
   "source": [
    "df['zip_code'] = df['address'].apply(lambda address:address[-5:])"
   ]
  },
  {
   "cell_type": "markdown",
   "metadata": {},
   "source": [
    "**Making this zip_code column into dummy variables using pandas. I concatenate the result and drop the original zip_code column along with dropping the address column.**"
   ]
  },
  {
   "cell_type": "code",
   "execution_count": 196,
   "metadata": {},
   "outputs": [],
   "source": [
    "dummies = pd.get_dummies(df['zip_code'],drop_first=True)\n",
    "df = df.drop(['zip_code','address'],axis=1)\n",
    "df = pd.concat([df,dummies],axis=1)"
   ]
  },
  {
   "cell_type": "markdown",
   "metadata": {},
   "source": [
    "### issue_d \n",
    "\n",
    "**This would be data leakage, I wouldn't know beforehand whether or not a loan would be issued when using our model, so in theory I wouldn't have an issue_date, drop this feature.**"
   ]
  },
  {
   "cell_type": "code",
   "execution_count": 197,
   "metadata": {},
   "outputs": [],
   "source": [
    "df = df.drop('issue_d',axis=1)"
   ]
  },
  {
   "cell_type": "markdown",
   "metadata": {},
   "source": [
    "### earliest_cr_line\n",
    "**This appears to be a historical time stamp feature. I extract the year from this feature using a .apply function, then convert it to a numeric feature. I set this new data to a feature column called 'earliest_cr_year'. Then drop the earliest_cr_line feature.**"
   ]
  },
  {
   "cell_type": "code",
   "execution_count": 198,
   "metadata": {},
   "outputs": [],
   "source": [
    "df['earliest_cr_year'] = df['earliest_cr_line'].apply(lambda date:int(date[-4:]))\n",
    "df = df.drop('earliest_cr_line',axis=1)"
   ]
  },
  {
   "cell_type": "code",
   "execution_count": 199,
   "metadata": {},
   "outputs": [
    {
     "data": {
      "text/plain": [
       "Index(['loan_status'], dtype='object')"
      ]
     },
     "execution_count": 199,
     "metadata": {},
     "output_type": "execute_result"
    }
   ],
   "source": [
    "df.select_dtypes(['object']).columns"
   ]
  },
  {
   "cell_type": "markdown",
   "metadata": {},
   "source": [
    "## Train Test Split"
   ]
  },
  {
   "cell_type": "markdown",
   "metadata": {},
   "source": [
    "**Importing train_test_split from sklearn.**"
   ]
  },
  {
   "cell_type": "code",
   "execution_count": 200,
   "metadata": {},
   "outputs": [],
   "source": [
    "from sklearn.model_selection import train_test_split"
   ]
  },
  {
   "cell_type": "markdown",
   "metadata": {},
   "source": [
    "**Dropping the loan_status column we created earlier, since its a duplicate of the loan_repaid column. I'll use the loan_repaid column since its already in 0s and 1s.**"
   ]
  },
  {
   "cell_type": "code",
   "execution_count": 201,
   "metadata": {},
   "outputs": [],
   "source": [
    "df = df.drop('loan_status',axis=1)"
   ]
  },
  {
   "cell_type": "markdown",
   "metadata": {},
   "source": [
    "**Setting X and y variables to the .values of the features and label.**"
   ]
  },
  {
   "cell_type": "code",
   "execution_count": 202,
   "metadata": {},
   "outputs": [],
   "source": [
    "X = df.drop('loan_repaid',axis=1).values\n",
    "y = df['loan_repaid'].values"
   ]
  },
  {
   "cell_type": "markdown",
   "metadata": {},
   "source": [
    "\n",
    "# OPTIONAL\n",
    "\n",
    "## Grabbing a Sample for Training Time\n",
    "\n",
    "### OPTIONAL: Use .sample() to grab a sample of the 490k+ entries to save time on training. Highly recommended for lower RAM computers or if you are not using GPU."
   ]
  },
  {
   "cell_type": "code",
   "execution_count": 203,
   "metadata": {},
   "outputs": [],
   "source": [
    "# df = df.sample(frac=0.1,random_state=101)\n",
    "# print(len(df))"
   ]
  },
  {
   "cell_type": "markdown",
   "metadata": {},
   "source": [
    "**Performing a train/test split with test_size=0.2 and a random_state of 101.**"
   ]
  },
  {
   "cell_type": "code",
   "execution_count": 204,
   "metadata": {},
   "outputs": [],
   "source": [
    "X_train, X_test, y_train, y_test = train_test_split(X, y, test_size=0.2, random_state=101)"
   ]
  },
  {
   "cell_type": "markdown",
   "metadata": {},
   "source": [
    "## Normalizing the Data\n",
    "\n",
    "**Using a MinMaxScaler to normalize the feature data X_train and X_test. I don't want data leakage from the test set so I only fit on the X_train data.**"
   ]
  },
  {
   "cell_type": "code",
   "execution_count": 205,
   "metadata": {},
   "outputs": [],
   "source": [
    "from sklearn.preprocessing import MinMaxScaler"
   ]
  },
  {
   "cell_type": "code",
   "execution_count": 206,
   "metadata": {},
   "outputs": [],
   "source": [
    "scaler = MinMaxScaler()"
   ]
  },
  {
   "cell_type": "code",
   "execution_count": 207,
   "metadata": {},
   "outputs": [],
   "source": [
    "X_train = scaler.fit_transform(X_train)"
   ]
  },
  {
   "cell_type": "code",
   "execution_count": 208,
   "metadata": {},
   "outputs": [],
   "source": [
    "X_test = scaler.transform(X_test)"
   ]
  },
  {
   "cell_type": "markdown",
   "metadata": {},
   "source": [
    "# Creating the Model\n",
    "\n",
    "**Running the cell below to import the necessary Keras functions.**"
   ]
  },
  {
   "cell_type": "code",
   "execution_count": 209,
   "metadata": {},
   "outputs": [],
   "source": [
    "import tensorflow as tf\n",
    "from tensorflow.keras.models import Sequential\n",
    "from tensorflow.keras.layers import Dense, Activation,Dropout\n",
    "from tensorflow.keras.callbacks import EarlyStopping\n",
    "from tensorflow.keras.optimizers import Adam\n",
    "from sklearn.metrics import classification_report, confusion_matrix, accuracy_score\n",
    "from tensorflow.keras.models import load_model"
   ]
  },
  {
   "cell_type": "markdown",
   "metadata": {},
   "source": [
    "**Building a sequential model to will be trained on the data. I have unlimited options here.**"
   ]
  },
  {
   "cell_type": "code",
   "execution_count": 210,
   "metadata": {},
   "outputs": [],
   "source": [
    "# early_stop = EarlyStopping(monitor = 'val_loss', mode = 'min', verbose = 1, patience = 25)\n",
    "\n",
    "# model = Sequential()\n",
    "\n",
    "# # input layer\n",
    "# model.add(Dense(78,input_shape=(X.shape[1],), activation='relu'))\n",
    "# model.add(Dropout(0.3))\n",
    "\n",
    "# # hidden layers\n",
    "# model.add(Dense(39, activation='relu'))\n",
    "# model.add(Dropout(0.3))\n",
    "\n",
    "# model.add(Dense(19, activation='relu'))\n",
    "# model.add(Dropout(0.3))\n",
    "\n",
    "# model.add(Dense(9, activation='relu'))\n",
    "# model.add(Dropout(0.3))\n",
    "\n",
    "# # output layer\n",
    "# model.add(Dense(units=1,activation='sigmoid'))\n",
    "\n",
    "# # Compile model\n",
    "# model.compile(loss='binary_crossentropy', optimizer= 'adam', metrics = ['accuracy'])"
   ]
  },
  {
   "cell_type": "code",
   "execution_count": 211,
   "metadata": {},
   "outputs": [
    {
     "name": "stdout",
     "output_type": "stream",
     "text": [
      "Train on 316824 samples, validate on 79206 samples\n",
      "Epoch 1/200\n",
      "316824/316824 [==============================] - 7s 23us/sample - loss: 0.3368 - accuracy: 0.8650 - val_loss: 0.2636 - val_accuracy: 0.8890\n",
      "Epoch 2/200\n",
      "316824/316824 [==============================] - 7s 21us/sample - loss: 0.2770 - accuracy: 0.8873 - val_loss: 0.2607 - val_accuracy: 0.8890\n",
      "Epoch 3/200\n",
      "316824/316824 [==============================] - 7s 22us/sample - loss: 0.2705 - accuracy: 0.8873 - val_loss: 0.2610 - val_accuracy: 0.8890\n",
      "Epoch 4/200\n",
      "316824/316824 [==============================] - 7s 22us/sample - loss: 0.2677 - accuracy: 0.8874 - val_loss: 0.2616 - val_accuracy: 0.8890\n",
      "Epoch 5/200\n",
      "316824/316824 [==============================] - 7s 23us/sample - loss: 0.2670 - accuracy: 0.8873 - val_loss: 0.2610 - val_accuracy: 0.8890\n",
      "Epoch 6/200\n",
      "316824/316824 [==============================] - 7s 23us/sample - loss: 0.2660 - accuracy: 0.8874 - val_loss: 0.2609 - val_accuracy: 0.8890\n",
      "Epoch 7/200\n",
      "316824/316824 [==============================] - 7s 24us/sample - loss: 0.2655 - accuracy: 0.8874 - val_loss: 0.2599 - val_accuracy: 0.8890\n",
      "Epoch 8/200\n",
      "316824/316824 [==============================] - 7s 22us/sample - loss: 0.2653 - accuracy: 0.8874 - val_loss: 0.2602 - val_accuracy: 0.8890\n",
      "Epoch 9/200\n",
      "316824/316824 [==============================] - 7s 22us/sample - loss: 0.2648 - accuracy: 0.8875 - val_loss: 0.2601 - val_accuracy: 0.8890\n",
      "Epoch 10/200\n",
      "316824/316824 [==============================] - 7s 23us/sample - loss: 0.2648 - accuracy: 0.8874 - val_loss: 0.2606 - val_accuracy: 0.8890\n",
      "Epoch 11/200\n",
      "316824/316824 [==============================] - 7s 22us/sample - loss: 0.2646 - accuracy: 0.8873 - val_loss: 0.2613 - val_accuracy: 0.8890\n",
      "Epoch 12/200\n",
      "316824/316824 [==============================] - 7s 21us/sample - loss: 0.2645 - accuracy: 0.8876 - val_loss: 0.2605 - val_accuracy: 0.8890\n",
      "Epoch 13/200\n",
      "316824/316824 [==============================] - 7s 23us/sample - loss: 0.2640 - accuracy: 0.8873 - val_loss: 0.2609 - val_accuracy: 0.8890\n",
      "Epoch 14/200\n",
      "316824/316824 [==============================] - 7s 23us/sample - loss: 0.2639 - accuracy: 0.8875 - val_loss: 0.2601 - val_accuracy: 0.8890\n",
      "Epoch 15/200\n",
      "316824/316824 [==============================] - 7s 21us/sample - loss: 0.2636 - accuracy: 0.8878 - val_loss: 0.2593 - val_accuracy: 0.8890\n",
      "Epoch 16/200\n",
      "316824/316824 [==============================] - 7s 22us/sample - loss: 0.2637 - accuracy: 0.8875 - val_loss: 0.2602 - val_accuracy: 0.8890\n",
      "Epoch 17/200\n",
      "316824/316824 [==============================] - 7s 22us/sample - loss: 0.2632 - accuracy: 0.8878 - val_loss: 0.2597 - val_accuracy: 0.8890\n",
      "Epoch 18/200\n",
      "316824/316824 [==============================] - 7s 23us/sample - loss: 0.2635 - accuracy: 0.8877 - val_loss: 0.2597 - val_accuracy: 0.8890\n",
      "Epoch 19/200\n",
      "316824/316824 [==============================] - 7s 23us/sample - loss: 0.2633 - accuracy: 0.8876 - val_loss: 0.2600 - val_accuracy: 0.8890\n",
      "Epoch 20/200\n",
      "316824/316824 [==============================] - 7s 23us/sample - loss: 0.2631 - accuracy: 0.8877 - val_loss: 0.2591 - val_accuracy: 0.8890\n",
      "Epoch 21/200\n",
      "316824/316824 [==============================] - 9s 27us/sample - loss: 0.2630 - accuracy: 0.8877 - val_loss: 0.2600 - val_accuracy: 0.8890\n",
      "Epoch 22/200\n",
      "316824/316824 [==============================] - 8s 25us/sample - loss: 0.2630 - accuracy: 0.8878 - val_loss: 0.2594 - val_accuracy: 0.8890\n",
      "Epoch 23/200\n",
      "316824/316824 [==============================] - 7s 22us/sample - loss: 0.2628 - accuracy: 0.8878 - val_loss: 0.2591 - val_accuracy: 0.8890\n",
      "Epoch 24/200\n",
      "316824/316824 [==============================] - 7s 22us/sample - loss: 0.2627 - accuracy: 0.8878 - val_loss: 0.2596 - val_accuracy: 0.8890\n",
      "Epoch 25/200\n",
      "316824/316824 [==============================] - 7s 22us/sample - loss: 0.2629 - accuracy: 0.8877 - val_loss: 0.2591 - val_accuracy: 0.8890\n",
      "Epoch 26/200\n",
      "316824/316824 [==============================] - 7s 23us/sample - loss: 0.2625 - accuracy: 0.8878 - val_loss: 0.2589 - val_accuracy: 0.8890\n",
      "Epoch 27/200\n",
      "316824/316824 [==============================] - 7s 22us/sample - loss: 0.2624 - accuracy: 0.8876 - val_loss: 0.2593 - val_accuracy: 0.8890\n",
      "Epoch 28/200\n",
      "316824/316824 [==============================] - 7s 22us/sample - loss: 0.2622 - accuracy: 0.8879 - val_loss: 0.2590 - val_accuracy: 0.8891\n",
      "Epoch 29/200\n",
      "316824/316824 [==============================] - 7s 21us/sample - loss: 0.2623 - accuracy: 0.8879 - val_loss: 0.2588 - val_accuracy: 0.8890\n",
      "Epoch 30/200\n",
      "316824/316824 [==============================] - 7s 21us/sample - loss: 0.2623 - accuracy: 0.8878 - val_loss: 0.2587 - val_accuracy: 0.8890\n",
      "Epoch 31/200\n",
      "316824/316824 [==============================] - 7s 23us/sample - loss: 0.2620 - accuracy: 0.8881 - val_loss: 0.2590 - val_accuracy: 0.8890\n",
      "Epoch 32/200\n",
      "316824/316824 [==============================] - 7s 22us/sample - loss: 0.2621 - accuracy: 0.8878 - val_loss: 0.2587 - val_accuracy: 0.8890\n",
      "Epoch 33/200\n",
      "316824/316824 [==============================] - 7s 23us/sample - loss: 0.2620 - accuracy: 0.8880 - val_loss: 0.2588 - val_accuracy: 0.8891\n",
      "Epoch 34/200\n",
      "316824/316824 [==============================] - 7s 22us/sample - loss: 0.2621 - accuracy: 0.8883 - val_loss: 0.2582 - val_accuracy: 0.8891\n",
      "Epoch 35/200\n",
      "316824/316824 [==============================] - 7s 23us/sample - loss: 0.2618 - accuracy: 0.8880 - val_loss: 0.2579 - val_accuracy: 0.8891\n",
      "Epoch 36/200\n",
      "316824/316824 [==============================] - 7s 22us/sample - loss: 0.2616 - accuracy: 0.8880 - val_loss: 0.2587 - val_accuracy: 0.8891\n",
      "Epoch 37/200\n",
      "316824/316824 [==============================] - 8s 24us/sample - loss: 0.2615 - accuracy: 0.8878 - val_loss: 0.2588 - val_accuracy: 0.8891\n",
      "Epoch 38/200\n",
      "316824/316824 [==============================] - 7s 23us/sample - loss: 0.2615 - accuracy: 0.8879 - val_loss: 0.2583 - val_accuracy: 0.8891\n",
      "Epoch 39/200\n",
      "316824/316824 [==============================] - 7s 22us/sample - loss: 0.2616 - accuracy: 0.8880 - val_loss: 0.2586 - val_accuracy: 0.8891\n",
      "Epoch 40/200\n",
      "316824/316824 [==============================] - 7s 22us/sample - loss: 0.2614 - accuracy: 0.8879 - val_loss: 0.2594 - val_accuracy: 0.8890\n",
      "Epoch 41/200\n",
      "316824/316824 [==============================] - 7s 22us/sample - loss: 0.2610 - accuracy: 0.8883 - val_loss: 0.2591 - val_accuracy: 0.8890\n",
      "Epoch 42/200\n",
      "316824/316824 [==============================] - 7s 22us/sample - loss: 0.2613 - accuracy: 0.8879 - val_loss: 0.2584 - val_accuracy: 0.8891\n",
      "Epoch 43/200\n",
      "316824/316824 [==============================] - 8s 24us/sample - loss: 0.2612 - accuracy: 0.8883 - val_loss: 0.2592 - val_accuracy: 0.8890\n",
      "Epoch 44/200\n",
      "316824/316824 [==============================] - 9s 28us/sample - loss: 0.2611 - accuracy: 0.8880 - val_loss: 0.2586 - val_accuracy: 0.8891\n",
      "Epoch 45/200\n",
      "316824/316824 [==============================] - 7s 23us/sample - loss: 0.2611 - accuracy: 0.8883 - val_loss: 0.2582 - val_accuracy: 0.8890\n",
      "Epoch 46/200\n",
      "316824/316824 [==============================] - 9s 28us/sample - loss: 0.2610 - accuracy: 0.8883 - val_loss: 0.2583 - val_accuracy: 0.8890\n",
      "Epoch 47/200\n",
      "316824/316824 [==============================] - 7s 22us/sample - loss: 0.2608 - accuracy: 0.8883 - val_loss: 0.2588 - val_accuracy: 0.8891\n",
      "Epoch 48/200\n",
      "316824/316824 [==============================] - 7s 23us/sample - loss: 0.2609 - accuracy: 0.8881 - val_loss: 0.2582 - val_accuracy: 0.8891\n",
      "Epoch 49/200\n",
      "316824/316824 [==============================] - 7s 23us/sample - loss: 0.2604 - accuracy: 0.8882 - val_loss: 0.2589 - val_accuracy: 0.8890\n",
      "Epoch 50/200\n",
      "316824/316824 [==============================] - 7s 23us/sample - loss: 0.2604 - accuracy: 0.8883 - val_loss: 0.2584 - val_accuracy: 0.8891\n",
      "Epoch 51/200\n",
      "316824/316824 [==============================] - 8s 24us/sample - loss: 0.2607 - accuracy: 0.8883 - val_loss: 0.2591 - val_accuracy: 0.8891\n",
      "Epoch 52/200\n",
      "316824/316824 [==============================] - 7s 23us/sample - loss: 0.2607 - accuracy: 0.8883 - val_loss: 0.2581 - val_accuracy: 0.8890\n",
      "Epoch 53/200\n",
      "316824/316824 [==============================] - 7s 23us/sample - loss: 0.2603 - accuracy: 0.8883 - val_loss: 0.2585 - val_accuracy: 0.8891\n",
      "Epoch 54/200\n"
     ]
    },
    {
     "name": "stdout",
     "output_type": "stream",
     "text": [
      "316824/316824 [==============================] - 7s 22us/sample - loss: 0.2604 - accuracy: 0.8882 - val_loss: 0.2584 - val_accuracy: 0.8890\n",
      "Epoch 55/200\n",
      "316824/316824 [==============================] - 7s 22us/sample - loss: 0.2603 - accuracy: 0.8883 - val_loss: 0.2581 - val_accuracy: 0.8891\n",
      "Epoch 56/200\n",
      "316824/316824 [==============================] - 7s 22us/sample - loss: 0.2603 - accuracy: 0.8884 - val_loss: 0.2579 - val_accuracy: 0.8892\n",
      "Epoch 57/200\n",
      "316824/316824 [==============================] - 7s 22us/sample - loss: 0.2605 - accuracy: 0.8881 - val_loss: 0.2585 - val_accuracy: 0.8890\n",
      "Epoch 58/200\n",
      "316824/316824 [==============================] - 7s 22us/sample - loss: 0.2603 - accuracy: 0.8882 - val_loss: 0.2579 - val_accuracy: 0.8893\n",
      "Epoch 59/200\n",
      "316824/316824 [==============================] - 7s 22us/sample - loss: 0.2602 - accuracy: 0.8883 - val_loss: 0.2580 - val_accuracy: 0.8891\n",
      "Epoch 60/200\n",
      "316824/316824 [==============================] - 7s 22us/sample - loss: 0.2602 - accuracy: 0.8883 - val_loss: 0.2581 - val_accuracy: 0.8891\n",
      "Epoch 61/200\n",
      "316824/316824 [==============================] - 7s 22us/sample - loss: 0.2599 - accuracy: 0.8885 - val_loss: 0.2579 - val_accuracy: 0.8893\n",
      "Epoch 62/200\n",
      "316824/316824 [==============================] - 7s 23us/sample - loss: 0.2599 - accuracy: 0.8886 - val_loss: 0.2580 - val_accuracy: 0.8891\n",
      "Epoch 63/200\n",
      "316824/316824 [==============================] - 7s 22us/sample - loss: 0.2597 - accuracy: 0.8889 - val_loss: 0.2584 - val_accuracy: 0.8891\n",
      "Epoch 64/200\n",
      "316824/316824 [==============================] - 7s 22us/sample - loss: 0.2596 - accuracy: 0.8886 - val_loss: 0.2589 - val_accuracy: 0.8891\n",
      "Epoch 65/200\n",
      "316824/316824 [==============================] - 7s 22us/sample - loss: 0.2597 - accuracy: 0.8886 - val_loss: 0.2575 - val_accuracy: 0.8892\n",
      "Epoch 66/200\n",
      "316824/316824 [==============================] - 7s 22us/sample - loss: 0.2598 - accuracy: 0.8885 - val_loss: 0.2575 - val_accuracy: 0.8893\n",
      "Epoch 67/200\n",
      "316824/316824 [==============================] - 7s 22us/sample - loss: 0.2599 - accuracy: 0.8883 - val_loss: 0.2579 - val_accuracy: 0.8893\n",
      "Epoch 68/200\n",
      "316824/316824 [==============================] - 7s 22us/sample - loss: 0.2597 - accuracy: 0.8883 - val_loss: 0.2579 - val_accuracy: 0.8893\n",
      "Epoch 69/200\n",
      "316824/316824 [==============================] - 7s 22us/sample - loss: 0.2593 - accuracy: 0.8886 - val_loss: 0.2576 - val_accuracy: 0.8892\n",
      "Epoch 70/200\n",
      "316824/316824 [==============================] - 8s 24us/sample - loss: 0.2596 - accuracy: 0.8886 - val_loss: 0.2586 - val_accuracy: 0.8891\n",
      "Epoch 71/200\n",
      "316824/316824 [==============================] - 8s 25us/sample - loss: 0.2593 - accuracy: 0.8886 - val_loss: 0.2584 - val_accuracy: 0.8892\n",
      "Epoch 72/200\n",
      "316824/316824 [==============================] - 8s 24us/sample - loss: 0.2593 - accuracy: 0.8887 - val_loss: 0.2579 - val_accuracy: 0.8892\n",
      "Epoch 73/200\n",
      "316824/316824 [==============================] - 7s 23us/sample - loss: 0.2597 - accuracy: 0.8885 - val_loss: 0.2581 - val_accuracy: 0.8891\n",
      "Epoch 74/200\n",
      "316824/316824 [==============================] - 7s 23us/sample - loss: 0.2596 - accuracy: 0.8888 - val_loss: 0.2578 - val_accuracy: 0.8893\n",
      "Epoch 75/200\n",
      "316824/316824 [==============================] - 7s 23us/sample - loss: 0.2592 - accuracy: 0.8886 - val_loss: 0.2581 - val_accuracy: 0.8891\n",
      "Epoch 76/200\n",
      "316824/316824 [==============================] - 7s 22us/sample - loss: 0.2597 - accuracy: 0.8885 - val_loss: 0.2582 - val_accuracy: 0.8891\n",
      "Epoch 77/200\n",
      "316824/316824 [==============================] - 7s 23us/sample - loss: 0.2592 - accuracy: 0.8888 - val_loss: 0.2576 - val_accuracy: 0.8894\n",
      "Epoch 78/200\n",
      "316824/316824 [==============================] - 8s 24us/sample - loss: 0.2592 - accuracy: 0.8886 - val_loss: 0.2583 - val_accuracy: 0.8891\n",
      "Epoch 79/200\n",
      "316824/316824 [==============================] - 7s 23us/sample - loss: 0.2593 - accuracy: 0.8886 - val_loss: 0.2583 - val_accuracy: 0.8891\n",
      "Epoch 80/200\n",
      "316824/316824 [==============================] - 7s 23us/sample - loss: 0.2591 - accuracy: 0.8884 - val_loss: 0.2581 - val_accuracy: 0.8891\n",
      "Epoch 81/200\n",
      "316824/316824 [==============================] - 7s 23us/sample - loss: 0.2593 - accuracy: 0.8886 - val_loss: 0.2591 - val_accuracy: 0.8891\n",
      "Epoch 82/200\n",
      "316824/316824 [==============================] - 7s 23us/sample - loss: 0.2592 - accuracy: 0.8886 - val_loss: 0.2581 - val_accuracy: 0.8891\n",
      "Epoch 83/200\n",
      "316824/316824 [==============================] - 10s 30us/sample - loss: 0.2590 - accuracy: 0.8886 - val_loss: 0.2588 - val_accuracy: 0.8891\n",
      "Epoch 84/200\n",
      "316824/316824 [==============================] - 8s 26us/sample - loss: 0.2590 - accuracy: 0.8886 - val_loss: 0.2576 - val_accuracy: 0.8894\n",
      "Epoch 85/200\n",
      "316824/316824 [==============================] - 7s 24us/sample - loss: 0.2591 - accuracy: 0.8886 - val_loss: 0.2572 - val_accuracy: 0.8892\n",
      "Epoch 86/200\n",
      "316824/316824 [==============================] - 7s 24us/sample - loss: 0.2589 - accuracy: 0.8886 - val_loss: 0.2582 - val_accuracy: 0.8892\n",
      "Epoch 87/200\n",
      "316824/316824 [==============================] - 8s 24us/sample - loss: 0.2586 - accuracy: 0.8888 - val_loss: 0.2579 - val_accuracy: 0.8891\n",
      "Epoch 88/200\n",
      "316824/316824 [==============================] - 8s 24us/sample - loss: 0.2590 - accuracy: 0.8885 - val_loss: 0.2581 - val_accuracy: 0.8893\n",
      "Epoch 89/200\n",
      "316824/316824 [==============================] - 9s 29us/sample - loss: 0.2587 - accuracy: 0.8888 - val_loss: 0.2591 - val_accuracy: 0.8891\n",
      "Epoch 90/200\n",
      "316824/316824 [==============================] - 7s 22us/sample - loss: 0.2590 - accuracy: 0.8887 - val_loss: 0.2589 - val_accuracy: 0.8892\n",
      "Epoch 91/200\n",
      "316824/316824 [==============================] - 7s 23us/sample - loss: 0.2584 - accuracy: 0.8888 - val_loss: 0.2585 - val_accuracy: 0.8892\n",
      "Epoch 92/200\n",
      "316824/316824 [==============================] - 9s 28us/sample - loss: 0.2588 - accuracy: 0.8887 - val_loss: 0.2583 - val_accuracy: 0.8891\n",
      "Epoch 93/200\n",
      "316824/316824 [==============================] - 8s 24us/sample - loss: 0.2590 - accuracy: 0.8886 - val_loss: 0.2593 - val_accuracy: 0.8892\n",
      "Epoch 94/200\n",
      "316824/316824 [==============================] - 7s 23us/sample - loss: 0.2587 - accuracy: 0.8887 - val_loss: 0.2581 - val_accuracy: 0.8891\n",
      "Epoch 95/200\n",
      "316824/316824 [==============================] - 7s 23us/sample - loss: 0.2586 - accuracy: 0.8888 - val_loss: 0.2587 - val_accuracy: 0.8891\n",
      "Epoch 96/200\n",
      "316824/316824 [==============================] - 7s 23us/sample - loss: 0.2585 - accuracy: 0.8887 - val_loss: 0.2575 - val_accuracy: 0.8893\n",
      "Epoch 97/200\n",
      "316824/316824 [==============================] - 7s 23us/sample - loss: 0.2585 - accuracy: 0.8891 - val_loss: 0.2588 - val_accuracy: 0.8892\n",
      "Epoch 98/200\n",
      "316824/316824 [==============================] - 7s 23us/sample - loss: 0.2587 - accuracy: 0.8887 - val_loss: 0.2583 - val_accuracy: 0.8891\n",
      "Epoch 99/200\n",
      "316824/316824 [==============================] - 7s 23us/sample - loss: 0.2584 - accuracy: 0.8888 - val_loss: 0.2587 - val_accuracy: 0.8891\n",
      "Epoch 100/200\n",
      "316824/316824 [==============================] - 8s 24us/sample - loss: 0.2586 - accuracy: 0.8887 - val_loss: 0.2584 - val_accuracy: 0.8890\n",
      "Epoch 101/200\n",
      "316824/316824 [==============================] - 7s 24us/sample - loss: 0.2586 - accuracy: 0.8886 - val_loss: 0.2583 - val_accuracy: 0.8891\n",
      "Epoch 102/200\n",
      "316824/316824 [==============================] - 8s 24us/sample - loss: 0.2583 - accuracy: 0.8887 - val_loss: 0.2587 - val_accuracy: 0.8891\n",
      "Epoch 103/200\n",
      "316824/316824 [==============================] - 8s 25us/sample - loss: 0.2583 - accuracy: 0.8888 - val_loss: 0.2578 - val_accuracy: 0.8892\n",
      "Epoch 104/200\n",
      "316824/316824 [==============================] - 7s 23us/sample - loss: 0.2585 - accuracy: 0.8887 - val_loss: 0.2580 - val_accuracy: 0.8892\n",
      "Epoch 105/200\n",
      "316824/316824 [==============================] - 7s 23us/sample - loss: 0.2583 - accuracy: 0.8890 - val_loss: 0.2585 - val_accuracy: 0.8894\n",
      "Epoch 106/200\n",
      "316824/316824 [==============================] - 8s 24us/sample - loss: 0.2585 - accuracy: 0.8889 - val_loss: 0.2589 - val_accuracy: 0.8891\n",
      "Epoch 107/200\n"
     ]
    },
    {
     "name": "stdout",
     "output_type": "stream",
     "text": [
      "316824/316824 [==============================] - 8s 24us/sample - loss: 0.2582 - accuracy: 0.8887 - val_loss: 0.2587 - val_accuracy: 0.8891\n",
      "Epoch 108/200\n",
      "316824/316824 [==============================] - 7s 23us/sample - loss: 0.2583 - accuracy: 0.8888 - val_loss: 0.2592 - val_accuracy: 0.8892\n",
      "Epoch 109/200\n",
      "316824/316824 [==============================] - 8s 25us/sample - loss: 0.2580 - accuracy: 0.8891 - val_loss: 0.2588 - val_accuracy: 0.8891\n",
      "Epoch 110/200\n",
      "316824/316824 [==============================] - 8s 25us/sample - loss: 0.2583 - accuracy: 0.8889 - val_loss: 0.2587 - val_accuracy: 0.8893\n",
      "Epoch 00110: early stopping\n"
     ]
    },
    {
     "data": {
      "text/plain": [
       "<tensorflow.python.keras.callbacks.History at 0x26336e4ce88>"
      ]
     },
     "execution_count": 211,
     "metadata": {},
     "output_type": "execute_result"
    }
   ],
   "source": [
    "# model.fit(x=X_train, \n",
    "#         y=y_train, \n",
    "#         epochs= 200,\n",
    "#         batch_size= 256,\n",
    "#         validation_data=(X_test, y_test),  \n",
    "#         callbacks = [early_stop], verbose=1,\n",
    "#         )"
   ]
  },
  {
   "cell_type": "markdown",
   "metadata": {},
   "source": [
    "**Trying to choose best hyperparameters for the neural networks. I just tried one combination that I believe it gave good accuracy because I didn't want to wait too much but you can put as many different hyperparameters as you want. You can try how many combinations you want.**"
   ]
  },
  {
   "cell_type": "code",
   "execution_count": 92,
   "metadata": {},
   "outputs": [
    {
     "name": "stdout",
     "output_type": "stream",
     "text": [
      "Train on 316824 samples, validate on 79206 samples\n",
      "Epoch 1/200\n",
      "316824/316824 [==============================] - 23s 72us/sample - loss: 0.2990 - accuracy: 0.8761 - val_loss: 0.2605 - val_accuracy: 0.8890\n",
      "Epoch 2/200\n",
      "316824/316824 [==============================] - 21s 66us/sample - loss: 0.2647 - accuracy: 0.8878 - val_loss: 0.2598 - val_accuracy: 0.8890\n",
      "Epoch 3/200\n",
      "316824/316824 [==============================] - 18s 57us/sample - loss: 0.2632 - accuracy: 0.8878 - val_loss: 0.2594 - val_accuracy: 0.8890 - ETA\n",
      "Epoch 4/200\n",
      "316824/316824 [==============================] - 18s 57us/sample - loss: 0.2622 - accuracy: 0.8880 - val_loss: 0.2601 - val_accuracy: 0.8890\n",
      "Epoch 5/200\n",
      "316824/316824 [==============================] - 18s 56us/sample - loss: 0.2617 - accuracy: 0.8879 - val_loss: 0.2592 - val_accuracy: 0.8890curacy: 0.88 - ETA: 0s - loss: 0.2618 - accuracy: 0.\n",
      "Epoch 6/200\n",
      "316824/316824 [==============================] - 18s 58us/sample - loss: 0.2609 - accuracy: 0.8878 - val_loss: 0.2590 - val_accuracy: 0.8890\n",
      "Epoch 7/200\n",
      "316824/316824 [==============================] - 17s 53us/sample - loss: 0.2607 - accuracy: 0.8880 - val_loss: 0.2585 - val_accuracy: 0.8890\n",
      "Epoch 8/200\n",
      "316824/316824 [==============================] - 17s 55us/sample - loss: 0.2603 - accuracy: 0.8880 - val_loss: 0.2583 - val_accuracy: 0.8892- loss: 0.259 - ETA: 8s - loss: 0.2599 -  - ETA: 4s - l - ETA: 3s - loss: 0.2603  - ETA: 2s - l\n",
      "Epoch 9/200\n",
      "316824/316824 [==============================] - 17s 54us/sample - loss: 0.2599 - accuracy: 0.8881 - val_loss: 0.2582 - val_accuracy: 0.8892\n",
      "Epoch 10/200\n",
      "316824/316824 [==============================] - 17s 55us/sample - loss: 0.2595 - accuracy: 0.8883 - val_loss: 0.2581 - val_accuracy: 0.8890 ETA: 0s - loss: 0.2595 - accuracy: 0.88\n",
      "Epoch 11/200\n",
      "316824/316824 [==============================] - 17s 53us/sample - loss: 0.2592 - accuracy: 0.8878 - val_loss: 0.2582 - val_accuracy: 0.8890\n",
      "Epoch 12/200\n",
      "316824/316824 [==============================] - 17s 54us/sample - loss: 0.2590 - accuracy: 0.8881 - val_loss: 0.2585 - val_accuracy: 0.8891\n",
      "Epoch 13/200\n",
      "316824/316824 [==============================] - 18s 56us/sample - loss: 0.2591 - accuracy: 0.8883 - val_loss: 0.2579 - val_accuracy: 0.8897\n",
      "Epoch 14/200\n",
      "316824/316824 [==============================] - 17s 53us/sample - loss: 0.2586 - accuracy: 0.8881 - val_loss: 0.2581 - val_accuracy: 0.8891\n",
      "Epoch 15/200\n",
      "316824/316824 [==============================] - 17s 54us/sample - loss: 0.2584 - accuracy: 0.8883 - val_loss: 0.2580 - val_accuracy: 0.8891\n",
      "Epoch 16/200\n",
      "316824/316824 [==============================] - 17s 54us/sample - loss: 0.2582 - accuracy: 0.8883 - val_loss: 0.2583 - val_accuracy: 0.8897\n",
      "Epoch 17/200\n",
      "316824/316824 [==============================] - 18s 57us/sample - loss: 0.2583 - accuracy: 0.8887 - val_loss: 0.2582 - val_accuracy: 0.8895s: \n",
      "Epoch 18/200\n",
      "316824/316824 [==============================] - 19s 61us/sample - loss: 0.2580 - accuracy: 0.8884 - val_loss: 0.2582 - val_accuracy: 0.8890\n",
      "Epoch 19/200\n",
      "316824/316824 [==============================] - 18s 55us/sample - loss: 0.2579 - accuracy: 0.8887 - val_loss: 0.2585 - val_accuracy: 0.8890\n",
      "Epoch 20/200\n",
      "316824/316824 [==============================] - 18s 56us/sample - loss: 0.2578 - accuracy: 0.8886 - val_loss: 0.2582 - val_accuracy: 0.8890- ETA: 4s - loss: 0.2582 - accuracy: 0.88 - ETA: 4s - loss: - ETA: 3s - l - ETA: 2s - loss: -\n",
      "Epoch 21/200\n",
      "316824/316824 [==============================] - 17s 54us/sample - loss: 0.2576 - accuracy: 0.8885 - val_loss: 0.2580 - val_accuracy: 0.8889 - loss: 0.257 - ETA:  - ETA: 0s - loss: 0.2575 - accu\n",
      "Epoch 22/200\n",
      "316824/316824 [==============================] - 18s 57us/sample - loss: 0.2575 - accuracy: 0.8889 - val_loss: 0.2583 - val_accuracy: 0.8891\n",
      "Epoch 23/200\n",
      "316824/316824 [==============================] - 20s 63us/sample - loss: 0.2573 - accuracy: 0.8887 - val_loss: 0.2586 - val_accuracy: 0.8889\n",
      "Epoch 24/200\n",
      "316824/316824 [==============================] - 21s 66us/sample - loss: 0.2572 - accuracy: 0.8886 - val_loss: 0.2581 - val_accuracy: 0.8894\n",
      "Epoch 25/200\n",
      "316824/316824 [==============================] - 19s 59us/sample - loss: 0.2569 - accuracy: 0.8887 - val_loss: 0.2581 - val_accuracy: 0.8892racy: 0.88 - ETA: 1s - - ETA: 0s - loss: 0.2567 - accura\n",
      "Epoch 26/200\n",
      "316824/316824 [==============================] - 18s 56us/sample - loss: 0.2569 - accuracy: 0.8890 - val_loss: 0.2582 - val_accuracy: 0.8891\n",
      "Epoch 27/200\n",
      "316824/316824 [==============================] - 19s 60us/sample - loss: 0.2565 - accuracy: 0.8888 - val_loss: 0.2582 - val_accuracy: 0.8894\n",
      "Epoch 28/200\n",
      "316824/316824 [==============================] - 18s 57us/sample - loss: 0.2565 - accuracy: 0.8888 - val_loss: 0.2585 - val_accuracy: 0.8895\n",
      "Epoch 29/200\n",
      "316824/316824 [==============================] - 22s 68us/sample - loss: 0.2562 - accuracy: 0.8892 - val_loss: 0.2582 - val_accuracy: 0.8888\n",
      "Epoch 30/200\n",
      "316824/316824 [==============================] - 20s 63us/sample - loss: 0.2562 - accuracy: 0.8890 - val_loss: 0.2588 - val_accuracy: 0.8887\n",
      "Epoch 31/200\n",
      "316824/316824 [==============================] - 19s 59us/sample - loss: 0.2560 - accuracy: 0.8889 - val_loss: 0.2590 - val_accuracy: 0.88884 - ac - ETA: 0s - l\n",
      "Epoch 32/200\n",
      "316824/316824 [==============================] - 20s 62us/sample - loss: 0.2559 - accuracy: 0.8892 - val_loss: 0.2584 - val_accuracy: 0.8889\n",
      "Epoch 33/200\n",
      "316824/316824 [==============================] - 21s 65us/sample - loss: 0.2559 - accuracy: 0.8890 - val_loss: 0.2587 - val_accuracy: 0.8891\n",
      "Epoch 34/200\n",
      "316824/316824 [==============================] - 11s 36us/sample - loss: 0.2555 - accuracy: 0.8893 - val_loss: 0.2591 - val_accuracy: 0.8889\n",
      "Epoch 35/200\n",
      "316824/316824 [==============================] - 11s 34us/sample - loss: 0.2559 - accuracy: 0.8893 - val_loss: 0.2581 - val_accuracy: 0.8893\n",
      "Epoch 36/200\n",
      "316824/316824 [==============================] - 10s 32us/sample - loss: 0.2554 - accuracy: 0.8894 - val_loss: 0.2585 - val_accuracy: 0.8890\n",
      "Epoch 37/200\n",
      "316824/316824 [==============================] - 8s 25us/sample - loss: 0.2552 - accuracy: 0.8895 - val_loss: 0.2585 - val_accuracy: 0.8890\n",
      "Epoch 38/200\n",
      "316824/316824 [==============================] - 8s 26us/sample - loss: 0.2552 - accuracy: 0.8894 - val_loss: 0.2583 - val_accuracy: 0.8890\n",
      "Epoch 39/200\n",
      "316824/316824 [==============================] - 8s 26us/sample - loss: 0.2549 - accuracy: 0.8894 - val_loss: 0.2584 - val_accuracy: 0.8893\n",
      "Epoch 40/200\n",
      "316824/316824 [==============================] - 8s 27us/sample - loss: 0.2548 - accuracy: 0.8898 - val_loss: 0.2587 - val_accuracy: 0.8889\n",
      "Epoch 41/200\n",
      "316824/316824 [==============================] - 8s 26us/sample - loss: 0.2547 - accuracy: 0.8896 - val_loss: 0.2581 - val_accuracy: 0.8891\n",
      "Epoch 42/200\n",
      "316824/316824 [==============================] - 8s 27us/sample - loss: 0.2547 - accuracy: 0.8895 - val_loss: 0.2585 - val_accuracy: 0.8889\n",
      "Epoch 43/200\n",
      "316824/316824 [==============================] - 9s 28us/sample - loss: 0.2547 - accuracy: 0.8896 - val_loss: 0.2576 - val_accuracy: 0.8891\n",
      "Epoch 44/200\n",
      "316824/316824 [==============================] - 9s 28us/sample - loss: 0.2545 - accuracy: 0.8897 - val_loss: 0.2587 - val_accuracy: 0.8889\n",
      "Epoch 45/200\n",
      "316824/316824 [==============================] - 9s 27us/sample - loss: 0.2542 - accuracy: 0.8896 - val_loss: 0.2583 - val_accuracy: 0.8894\n",
      "Epoch 46/200\n",
      "316824/316824 [==============================] - 8s 26us/sample - loss: 0.2543 - accuracy: 0.8895 - val_loss: 0.2587 - val_accuracy: 0.8883\n",
      "Epoch 47/200\n",
      "316824/316824 [==============================] - 9s 27us/sample - loss: 0.2541 - accuracy: 0.8896 - val_loss: 0.2598 - val_accuracy: 0.8892\n",
      "Epoch 48/200\n",
      "316824/316824 [==============================] - 8s 26us/sample - loss: 0.2538 - accuracy: 0.8898 - val_loss: 0.2584 - val_accuracy: 0.8894\n",
      "Epoch 49/200\n",
      "316824/316824 [==============================] - 8s 26us/sample - loss: 0.2538 - accuracy: 0.8900 - val_loss: 0.2585 - val_accuracy: 0.8890\n",
      "Epoch 50/200\n",
      "316824/316824 [==============================] - 8s 27us/sample - loss: 0.2536 - accuracy: 0.8899 - val_loss: 0.2589 - val_accuracy: 0.8885\n",
      "Epoch 51/200\n",
      "316824/316824 [==============================] - 9s 28us/sample - loss: 0.2535 - accuracy: 0.8899 - val_loss: 0.2590 - val_accuracy: 0.8883\n",
      "Epoch 52/200\n",
      "316824/316824 [==============================] - 8s 27us/sample - loss: 0.2536 - accuracy: 0.8898 - val_loss: 0.2602 - val_accuracy: 0.8886\n",
      "Epoch 53/200\n",
      "316824/316824 [==============================] - 8s 26us/sample - loss: 0.2534 - accuracy: 0.8899 - val_loss: 0.2595 - val_accuracy: 0.8885\n",
      "Epoch 54/200\n",
      "316824/316824 [==============================] - 9s 28us/sample - loss: 0.2532 - accuracy: 0.8903 - val_loss: 0.2587 - val_accuracy: 0.8890\n",
      "Epoch 55/200\n",
      "316824/316824 [==============================] - 8s 26us/sample - loss: 0.2531 - accuracy: 0.8900 - val_loss: 0.2587 - val_accuracy: 0.8891\n",
      "Epoch 56/200\n",
      "316824/316824 [==============================] - 9s 28us/sample - loss: 0.2533 - accuracy: 0.8900 - val_loss: 0.2583 - val_accuracy: 0.8886\n",
      "Epoch 57/200\n",
      "316824/316824 [==============================] - 9s 28us/sample - loss: 0.2529 - accuracy: 0.8900 - val_loss: 0.2590 - val_accuracy: 0.8891\n",
      "Epoch 58/200\n",
      "316824/316824 [==============================] - 9s 28us/sample - loss: 0.2531 - accuracy: 0.8899 - val_loss: 0.2588 - val_accuracy: 0.8887\n",
      "Epoch 59/200\n",
      "316824/316824 [==============================] - 9s 27us/sample - loss: 0.2530 - accuracy: 0.8902 - val_loss: 0.2591 - val_accuracy: 0.8887\n",
      "Epoch 60/200\n",
      "316824/316824 [==============================] - 9s 27us/sample - loss: 0.2526 - accuracy: 0.8903 - val_loss: 0.2588 - val_accuracy: 0.8890\n",
      "Epoch 61/200\n",
      "316824/316824 [==============================] - 9s 27us/sample - loss: 0.2525 - accuracy: 0.8902 - val_loss: 0.2595 - val_accuracy: 0.8888\n",
      "Epoch 62/200\n",
      "316824/316824 [==============================] - 9s 29us/sample - loss: 0.2525 - accuracy: 0.8903 - val_loss: 0.2591 - val_accuracy: 0.8890\n",
      "Epoch 63/200\n",
      "316824/316824 [==============================] - 9s 27us/sample - loss: 0.2525 - accuracy: 0.8901 - val_loss: 0.2594 - val_accuracy: 0.8884\n",
      "Epoch 64/200\n",
      "316824/316824 [==============================] - 9s 29us/sample - loss: 0.2521 - accuracy: 0.8904 - val_loss: 0.2586 - val_accuracy: 0.8886\n",
      "Epoch 65/200\n",
      "316824/316824 [==============================] - 9s 28us/sample - loss: 0.2522 - accuracy: 0.8902 - val_loss: 0.2586 - val_accuracy: 0.8889\n",
      "Epoch 66/200\n",
      "316824/316824 [==============================] - 9s 28us/sample - loss: 0.2523 - accuracy: 0.8906 - val_loss: 0.2599 - val_accuracy: 0.8888\n",
      "Epoch 67/200\n",
      "316824/316824 [==============================] - 8s 26us/sample - loss: 0.2520 - accuracy: 0.8905 - val_loss: 0.2597 - val_accuracy: 0.8888\n",
      "Epoch 68/200\n",
      "316824/316824 [==============================] - 8s 27us/sample - loss: 0.2521 - accuracy: 0.8906 - val_loss: 0.2588 - val_accuracy: 0.8893\n",
      "Epoch 69/200\n",
      "316824/316824 [==============================] - 8s 26us/sample - loss: 0.2518 - accuracy: 0.8904 - val_loss: 0.2590 - val_accuracy: 0.8890\n",
      "Epoch 70/200\n",
      "316824/316824 [==============================] - 9s 28us/sample - loss: 0.2519 - accuracy: 0.8904 - val_loss: 0.2590 - val_accuracy: 0.8890\n",
      "Epoch 71/200\n",
      "316824/316824 [==============================] - 9s 29us/sample - loss: 0.2517 - accuracy: 0.8905 - val_loss: 0.2591 - val_accuracy: 0.8888\n",
      "Epoch 72/200\n",
      "316824/316824 [==============================] - 9s 28us/sample - loss: 0.2518 - accuracy: 0.8906 - val_loss: 0.2590 - val_accuracy: 0.8891\n",
      "Epoch 73/200\n",
      "316824/316824 [==============================] - 9s 29us/sample - loss: 0.2515 - accuracy: 0.8901 - val_loss: 0.2595 - val_accuracy: 0.8884\n",
      "Epoch 74/200\n",
      "316824/316824 [==============================] - 10s 30us/sample - loss: 0.2515 - accuracy: 0.8905 - val_loss: 0.2594 - val_accuracy: 0.8887\n",
      "Epoch 75/200\n",
      "316824/316824 [==============================] - 9s 29us/sample - loss: 0.2517 - accuracy: 0.8905 - val_loss: 0.2595 - val_accuracy: 0.8890\n",
      "Epoch 76/200\n",
      "316824/316824 [==============================] - 9s 30us/sample - loss: 0.2514 - accuracy: 0.8904 - val_loss: 0.2592 - val_accuracy: 0.8888\n",
      "Epoch 77/200\n",
      "316824/316824 [==============================] - 10s 30us/sample - loss: 0.2513 - accuracy: 0.8906 - val_loss: 0.2596 - val_accuracy: 0.8887\n",
      "Epoch 78/200\n",
      "316824/316824 [==============================] - 9s 27us/sample - loss: 0.2512 - accuracy: 0.8907 - val_loss: 0.2599 - val_accuracy: 0.8886\n",
      "Epoch 79/200\n",
      "316824/316824 [==============================] - 9s 27us/sample - loss: 0.2512 - accuracy: 0.8906 - val_loss: 0.2599 - val_accuracy: 0.8890\n",
      "Epoch 80/200\n",
      "316824/316824 [==============================] - 8s 26us/sample - loss: 0.2511 - accuracy: 0.8906 - val_loss: 0.2595 - val_accuracy: 0.8891\n",
      "Epoch 81/200\n",
      "316824/316824 [==============================] - 8s 26us/sample - loss: 0.2511 - accuracy: 0.8906 - val_loss: 0.2614 - val_accuracy: 0.8885\n",
      "Epoch 82/200\n",
      "316824/316824 [==============================] - 9s 27us/sample - loss: 0.2507 - accuracy: 0.8907 - val_loss: 0.2606 - val_accuracy: 0.8885\n",
      "Epoch 83/200\n",
      "316824/316824 [==============================] - 8s 26us/sample - loss: 0.2507 - accuracy: 0.8906 - val_loss: 0.2593 - val_accuracy: 0.8889\n",
      "Epoch 00083: early stopping\n",
      "Best Accuracy   NaN\n",
      "WARNING:tensorflow:From C:\\Users\\emreo\\Anaconda3\\lib\\site-packages\\tensorflow_core\\python\\ops\\resource_variable_ops.py:1786: calling BaseResourceVariable.__init__ (from tensorflow.python.ops.resource_variable_ops) with constraint is deprecated and will be removed in a future version.\n",
      "Instructions for updating:\n",
      "If using Keras pass *_constraint arguments to layers.\n",
      "INFO:tensorflow:Assets written to: Best_Model_With88.88594298411736\\assets\n",
      "\n"
     ]
    }
   ],
   "source": [
    "import itertools\n",
    "\n",
    "batch_list = [256]\n",
    "patience_list = [40]\n",
    "first_layer_list = [0.5]\n",
    "second_layer_list = [1]\n",
    "third_layer_list = [4] \n",
    "dropout_input = [0.2]\n",
    "dropout_hidden_1 = [0.2]\n",
    "dropout_hidden_2 = [0.2]\n",
    "dropout_hidden_3 = [0.2]\n",
    "learn_rate = [0.001]\n",
    "batch_used = []\n",
    "patience_used = []\n",
    "first_layer = []\n",
    "second_layer = []\n",
    "third_layer = []\n",
    "drop_input = []\n",
    "drop_hidden1 = []\n",
    "drop_hidden2 = []\n",
    "drop_hidden3 = []\n",
    "learn_list = []\n",
    "test_accuracy_l = []\n",
    "train_accuracy_l = []\n",
    "\n",
    "for batch, patience, drop_i, drop_h1, drop_h2, drop_h3, r, first, second, third in itertools.product(batch_list,\n",
    "        patience_list, dropout_input, dropout_hidden_1, dropout_hidden_2,\n",
    "        dropout_hidden_3, learn_rate, first_layer_list, second_layer_list,\n",
    "        third_layer_list):\n",
    "    \n",
    "    adam = Adam(learning_rate = r)\n",
    "    early_stop = EarlyStopping(monitor = 'val_loss', mode = 'min', verbose = 1, patience = patience)\n",
    "\n",
    "    model = Sequential()\n",
    "\n",
    "    model.add(Dense(X.shape[1],input_shape=(X.shape[1],), activation='relu'))\n",
    "    model.add(Dropout(drop_i))\n",
    "    \n",
    "    model.add(Dense(X.shape[1]/first, activation='relu'))\n",
    "    model.add(Dropout(drop_h1))\n",
    "\n",
    "    model.add(Dense(X.shape[1]/second, activation='relu'))\n",
    "    model.add(Dropout(drop_h2))\n",
    "\n",
    "    model.add(Dense(X.shape[1]/third, activation='relu'))\n",
    "    model.add(Dropout(drop_h3))\n",
    "\n",
    "    model.add(Dense(units=1, kernel_initializer='uniform', activation='sigmoid'))\n",
    "\n",
    "    model.compile(loss='binary_crossentropy', optimizer= adam, metrics = ['accuracy'])\n",
    "    \n",
    "    model.fit(x=X_train, \n",
    "        y=y_train, \n",
    "        epochs= 200,\n",
    "        batch_size= batch,\n",
    "        validation_data=(X_test, y_test),  \n",
    "        callbacks = [early_stop], verbose=1,\n",
    "        )\n",
    "    \n",
    "    train_predictions = model.predict_classes(X_train)\n",
    "    test_predictions = model.predict_classes(X_test)\n",
    "    \n",
    "    train_accuracy = accuracy_score(y_train, train_predictions)\n",
    "    test_accuracy = accuracy_score(y_test, test_predictions)\n",
    "    \n",
    "    train_accuracy_l.append(train_accuracy)\n",
    "    test_accuracy_l.append(test_accuracy)\n",
    "    batch_used.append(batch)\n",
    "    patience_used.append(patience)\n",
    "    drop_input.append(drop_i)\n",
    "    drop_hidden1.append(drop_h1)\n",
    "    drop_hidden2.append(drop_h2)\n",
    "    drop_hidden3.append(drop_h3)\n",
    "    learn_list.append(r)\n",
    "    first_layer.append(first)\n",
    "    second_layer.append(second)\n",
    "    third_layer.append(third)\n",
    "    \n",
    "    print(pd.DataFrame(accuracy_list,columns=['Best Accuracy']).sort_values(by='Best Accuracy').max().round(4).to_string())\n",
    "    \n",
    "    # Saving the best model\n",
    "    if test_accuracy == max(test_accuracy_l):\n",
    "        model.save(\"Best_Model_With\" + str(test_accuracy * 100))\n",
    "    else:\n",
    "        None\n",
    " \n",
    "    print()"
   ]
  },
  {
   "cell_type": "code",
   "execution_count": 95,
   "metadata": {},
   "outputs": [
    {
     "data": {
      "text/html": [
       "<div>\n",
       "<style scoped>\n",
       "    .dataframe tbody tr th:only-of-type {\n",
       "        vertical-align: middle;\n",
       "    }\n",
       "\n",
       "    .dataframe tbody tr th {\n",
       "        vertical-align: top;\n",
       "    }\n",
       "\n",
       "    .dataframe thead th {\n",
       "        text-align: right;\n",
       "    }\n",
       "</style>\n",
       "<table border=\"1\" class=\"dataframe\">\n",
       "  <thead>\n",
       "    <tr style=\"text-align: right;\">\n",
       "      <th></th>\n",
       "      <th>Batch Size</th>\n",
       "      <th>Patience</th>\n",
       "      <th>Input Layer Dropout</th>\n",
       "      <th>1st Hidden Dropout</th>\n",
       "      <th>2nd Hidden Dropout</th>\n",
       "      <th>3rd Hidden Dropout</th>\n",
       "      <th>Learning Rate</th>\n",
       "      <th>First Layer Divisor</th>\n",
       "      <th>Second Layer Divisor</th>\n",
       "      <th>Third Layer Divisor</th>\n",
       "      <th>Train Accuracy</th>\n",
       "      <th>Test Accuracy</th>\n",
       "    </tr>\n",
       "  </thead>\n",
       "  <tbody>\n",
       "    <tr>\n",
       "      <th>0</th>\n",
       "      <td>256</td>\n",
       "      <td>40</td>\n",
       "      <td>0.2</td>\n",
       "      <td>0.2</td>\n",
       "      <td>0.2</td>\n",
       "      <td>0.2</td>\n",
       "      <td>0.001</td>\n",
       "      <td>0.5</td>\n",
       "      <td>1</td>\n",
       "      <td>4</td>\n",
       "      <td>0.892817</td>\n",
       "      <td>0.888859</td>\n",
       "    </tr>\n",
       "  </tbody>\n",
       "</table>\n",
       "</div>"
      ],
      "text/plain": [
       "   Batch Size  Patience  Input Layer Dropout  1st Hidden Dropout  \\\n",
       "0         256        40                  0.2                 0.2   \n",
       "\n",
       "   2nd Hidden Dropout  3rd Hidden Dropout  Learning Rate  First Layer Divisor  \\\n",
       "0                 0.2                 0.2          0.001                  0.5   \n",
       "\n",
       "   Second Layer Divisor  Third Layer Divisor  Train Accuracy  Test Accuracy  \n",
       "0                     1                    4        0.892817       0.888859  "
      ]
     },
     "execution_count": 95,
     "metadata": {},
     "output_type": "execute_result"
    }
   ],
   "source": [
    "batch = pd.DataFrame(batch_used,columns=['Batch Size'])\n",
    "patience = pd.DataFrame(patience_used,columns=['Patience'])\n",
    "drop_i = pd.DataFrame(drop_input,columns=['Input Layer Dropout'])\n",
    "drop_h1 = pd.DataFrame(drop_hidden1,columns=['1st Hidden Dropout'])\n",
    "drop_h2 = pd.DataFrame(drop_hidden2,columns=['2nd Hidden Dropout'])\n",
    "drop_h3 = pd.DataFrame(drop_hidden3,columns=['3rd Hidden Dropout'])\n",
    "r = pd.DataFrame(learn_list,columns=['Learning Rate'])\n",
    "first = pd.DataFrame(first_layer,columns=['First Layer Divisor'])\n",
    "second = pd.DataFrame(second_layer,columns=['Second Layer Divisor'])\n",
    "third = pd.DataFrame(third_layer,columns=['Third Layer Divisor'])\n",
    "train_acc = pd.DataFrame(train_accuracy_l, columns=['Train Accuracy'])\n",
    "test_acc = pd.DataFrame(test_accuracy_l, columns=['Test Accuracy'])\n",
    "\n",
    "results = pd.concat([batch, patience, drop_i, drop_h1, drop_h2,\n",
    "                    drop_h3, r, first, second, third, train_acc, test_acc],axis=1)\n",
    "\n",
    "results.sort_values(by='Test Accuracy')"
   ]
  },
  {
   "cell_type": "markdown",
   "metadata": {},
   "source": [
    "# Section 3: Evaluating Model Performance.\n",
    "\n",
    "**Plotting out the validation loss versus the training loss.**"
   ]
  },
  {
   "cell_type": "code",
   "execution_count": 212,
   "metadata": {},
   "outputs": [],
   "source": [
    "losses = pd.DataFrame(model.history.history)"
   ]
  },
  {
   "cell_type": "code",
   "execution_count": 213,
   "metadata": {},
   "outputs": [
    {
     "data": {
      "text/plain": [
       "<matplotlib.axes._subplots.AxesSubplot at 0x263083c53c8>"
      ]
     },
     "execution_count": 213,
     "metadata": {},
     "output_type": "execute_result"
    },
    {
     "data": {
      "image/png": "[encoded data removed]",
      "text/plain": [
       "<Figure size 432x288 with 1 Axes>"
      ]
     },
     "metadata": {
      "needs_background": "light"
     },
     "output_type": "display_data"
    }
   ],
   "source": [
    "losses[['loss','val_loss']].plot()"
   ]
  },
  {
   "cell_type": "markdown",
   "metadata": {},
   "source": [
    "**Creating predictions from the X_test set and display a classification report and confusion matrix for the X_test set.**"
   ]
  },
  {
   "cell_type": "code",
   "execution_count": 214,
   "metadata": {},
   "outputs": [],
   "source": [
    "from sklearn.metrics import classification_report,confusion_matrix,balanced_accuracy_score"
   ]
  },
  {
   "cell_type": "code",
   "execution_count": 215,
   "metadata": {},
   "outputs": [],
   "source": [
    "predictions = model.predict_classes(X_test)"
   ]
  },
  {
   "cell_type": "code",
   "execution_count": 216,
   "metadata": {},
   "outputs": [
    {
     "name": "stdout",
     "output_type": "stream",
     "text": [
      "              precision    recall  f1-score   support\n",
      "\n",
      "         0.0       0.99      0.44      0.61     15493\n",
      "         1.0       0.88      1.00      0.94     63713\n",
      "\n",
      "    accuracy                           0.89     79206\n",
      "   macro avg       0.93      0.72      0.77     79206\n",
      "weighted avg       0.90      0.89      0.87     79206\n",
      "\n"
     ]
    }
   ],
   "source": [
    "print(classification_report(y_test,predictions))"
   ]
  },
  {
   "cell_type": "code",
   "execution_count": 217,
   "metadata": {},
   "outputs": [
    {
     "data": {
      "text/plain": [
       "array([[ 6801,  8692],\n",
       "       [   73, 63640]], dtype=int64)"
      ]
     },
     "execution_count": 217,
     "metadata": {},
     "output_type": "execute_result"
    }
   ],
   "source": [
    "confusion_matrix(y_test,predictions)"
   ]
  },
  {
   "cell_type": "markdown",
   "metadata": {},
   "source": [
    "**There is a customer below, would you offer this person a loan?**"
   ]
  },
  {
   "cell_type": "code",
   "execution_count": 218,
   "metadata": {},
   "outputs": [
    {
     "data": {
      "text/plain": [
       "loan_amnt           24000.00\n",
       "term                   60.00\n",
       "int_rate               13.11\n",
       "installment           547.43\n",
       "annual_inc          85000.00\n",
       "                      ...   \n",
       "48052                   0.00\n",
       "70466                   0.00\n",
       "86630                   0.00\n",
       "93700                   0.00\n",
       "earliest_cr_year     1991.00\n",
       "Name: 304691, Length: 78, dtype: float64"
      ]
     },
     "execution_count": 218,
     "metadata": {},
     "output_type": "execute_result"
    }
   ],
   "source": [
    "import random\n",
    "random.seed(101)\n",
    "random_ind = random.randint(0,len(df))\n",
    "\n",
    "new_customer = df.drop('loan_repaid',axis=1).iloc[random_ind]\n",
    "new_customer"
   ]
  },
  {
   "cell_type": "code",
   "execution_count": 219,
   "metadata": {},
   "outputs": [
    {
     "data": {
      "text/plain": [
       "array([[1]])"
      ]
     },
     "execution_count": 219,
     "metadata": {},
     "output_type": "execute_result"
    }
   ],
   "source": [
    "model.predict_classes(new_customer.values.reshape(1,78))"
   ]
  },
  {
   "cell_type": "markdown",
   "metadata": {},
   "source": [
    "**I check if did this person actually end up paying back their loan.**"
   ]
  },
  {
   "cell_type": "code",
   "execution_count": 220,
   "metadata": {},
   "outputs": [
    {
     "data": {
      "text/plain": [
       "1.0"
      ]
     },
     "execution_count": 220,
     "metadata": {},
     "output_type": "execute_result"
    }
   ],
   "source": [
    "df.iloc[random_ind]['loan_repaid']"
   ]
  }
 ],
 "metadata": {
  "kernelspec": {
   "display_name": "Python 3",
   "language": "python",
   "name": "python3"
  },
  "language_info": {
   "codemirror_mode": {
    "name": "ipython",
    "version": 3
   },
   "file_extension": ".py",
   "mimetype": "text/x-python",
   "name": "python",
   "nbconvert_exporter": "python",
   "pygments_lexer": "ipython3",
   "version": "3.7.4"
  }
 },
 "nbformat": 4,
 "nbformat_minor": 2
}
